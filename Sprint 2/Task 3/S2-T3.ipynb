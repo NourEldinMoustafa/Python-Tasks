{
 "cells": [
  {
   "cell_type": "markdown",
   "id": "71ce9bb4",
   "metadata": {},
   "source": [
    "https://www.hackerrank.com/domains/python?badge_type=python&filters%5Bsubdomains%5D%5B%5D=py-strings\n",
    "\n",
    "0-Find a string"
   ]
  },
  {
   "cell_type": "code",
   "execution_count": 19,
   "id": "9c771d13",
   "metadata": {},
   "outputs": [
    {
     "name": "stdout",
     "output_type": "stream",
     "text": [
      "ABCDCDC\n",
      "CDC\n",
      "2\n"
     ]
    }
   ],
   "source": [
    "def count_substring(string, sub_string):\n",
    "    return sum([1 for i in range(0, len(string) - len(sub_string) + 1) if string[i:i+len(sub_string)] == sub_string])\n",
    "            \n",
    "\n",
    "if __name__ == '__main__':\n",
    "    string = input().strip()\n",
    "    sub_string = input().strip()\n",
    "    \n",
    "    count = count_substring(string, sub_string)\n",
    "    print(count)"
   ]
  },
  {
   "cell_type": "markdown",
   "id": "5a4795d9",
   "metadata": {},
   "source": [
    "\n",
    "1-sWAP cASE"
   ]
  },
  {
   "cell_type": "code",
   "execution_count": 1,
   "id": "a3f7775d",
   "metadata": {},
   "outputs": [
    {
     "name": "stdout",
     "output_type": "stream",
     "text": [
      "Hello\n",
      "hELLO\n"
     ]
    }
   ],
   "source": [
    "def swap_case(s):\n",
    "    case_change=[]\n",
    "    for i in range(len(s)):\n",
    "        if (s[i].isupper())==True:\n",
    "            case_change.append(s[i].lower())\n",
    "        elif (s[i].islower()==True):\n",
    "            case_change.append(s[i].upper())\n",
    "        else:\n",
    "            case_change.append(s[i])    \n",
    "        stri=''\n",
    "    return stri.join(case_change)\n",
    "\n",
    "if __name__ == '__main__':\n",
    "    s = input()\n",
    "    result = swap_case(s)\n",
    "    print(result)"
   ]
  },
  {
   "cell_type": "markdown",
   "id": "d676f44a",
   "metadata": {},
   "source": [
    "2-String Split and Join:\n"
   ]
  },
  {
   "cell_type": "code",
   "execution_count": 3,
   "id": "df3e1239",
   "metadata": {},
   "outputs": [
    {
     "name": "stdout",
     "output_type": "stream",
     "text": [
      "this is a string \n",
      "this-is-a-string\n"
     ]
    }
   ],
   "source": [
    "def split_and_join(line):\n",
    "    Output = line.split();\n",
    "    Output = \"-\".join(Output)\n",
    "    return Output;\n",
    "    \n",
    "if __name__ == '__main__':\n",
    "    line = input()\n",
    "    result = split_and_join(line)\n",
    "    print(result)"
   ]
  },
  {
   "cell_type": "markdown",
   "id": "fd9278bc",
   "metadata": {},
   "source": [
    "3-What's Your Name?\n"
   ]
  },
  {
   "cell_type": "code",
   "execution_count": 2,
   "id": "5abc71d0",
   "metadata": {},
   "outputs": [
    {
     "name": "stdout",
     "output_type": "stream",
     "text": [
      "Nour\n",
      "Eldin\n",
      "Hello Nour Eldin! You just delved into python.\n"
     ]
    }
   ],
   "source": [
    "def print_full_name(a, b):\n",
    "    b = b+\"!\"\n",
    "    print(\"Hello\",a, b,\"You just delved into python.\"); \n",
    "if __name__ == '__main__':\n",
    "    first_name = input()\n",
    "    last_name = input()\n",
    "    print_full_name(first_name, last_name)"
   ]
  },
  {
   "cell_type": "markdown",
   "id": "418dce44",
   "metadata": {},
   "source": [
    "4-Mutations in Python"
   ]
  },
  {
   "cell_type": "code",
   "execution_count": 11,
   "id": "de8c9ce6",
   "metadata": {},
   "outputs": [
    {
     "name": "stdout",
     "output_type": "stream",
     "text": [
      "abracadabra\n",
      "5 k\n",
      "abrackdabra\n"
     ]
    }
   ],
   "source": [
    "def mutate_string(string, position, character):\n",
    "    l = list(string)\n",
    "    l[position] = character;\n",
    "    string = ''.join(l);\n",
    "    return string\n",
    "if __name__ == '__main__':\n",
    "    s = input()\n",
    "    i, c = input().split()\n",
    "    s_new = mutate_string(s, int(i), c)\n",
    "    print(s_new)"
   ]
  },
  {
   "cell_type": "markdown",
   "id": "fa825f2b",
   "metadata": {},
   "source": [
    "5-String Validators"
   ]
  },
  {
   "cell_type": "code",
   "execution_count": 1,
   "id": "e4873221",
   "metadata": {},
   "outputs": [
    {
     "name": "stdout",
     "output_type": "stream",
     "text": [
      "ab123\n",
      "True\n",
      "True\n",
      "True\n",
      "True\n",
      "False\n"
     ]
    }
   ],
   "source": [
    "def fun1(s):\n",
    "    for i in range(len(s)):\n",
    "        if(s[i].isalnum()):\n",
    "            return True;\n",
    "            break;\n",
    "    return False;\n",
    "        \n",
    "def fun2(s):\n",
    "    for i in range(len(s)):\n",
    "        if(s[i].isalpha()):\n",
    "            return True;\n",
    "            break;\n",
    "    return False;\n",
    "\n",
    "def fun3(s):\n",
    "    for i in range(len(s)):\n",
    "        if(s[i].isdigit()):\n",
    "            return True;\n",
    "            break;\n",
    "    return False;\n",
    "\n",
    "def fun4(s):\n",
    "    for i in range(len(s)):\n",
    "        if(s[i].islower()):\n",
    "            return True;\n",
    "            break;\n",
    "    return False; \n",
    "     \n",
    "def fun5(s):\n",
    "    for i in range(len(s)):\n",
    "        if(s[i].isupper()):\n",
    "            return True;\n",
    "            break;\n",
    "    return False;\n",
    "\n",
    "if __name__ == '__main__':\n",
    "    s =input()\n",
    "    flagalphanum = fun1(s)\n",
    "    alphabetical = fun2(s)\n",
    "    digits = fun3(s)\n",
    "    lowercase = fun4(s)\n",
    "    uppercase = fun5(s)\n",
    "    print(flagalphanum)\n",
    "    print(alphabetical)\n",
    "    print(digits)\n",
    "    print(lowercase)\n",
    "    print(uppercase)"
   ]
  },
  {
   "cell_type": "markdown",
   "id": "12ec6d90",
   "metadata": {},
   "source": [
    "6-Text Alignment:"
   ]
  },
  {
   "cell_type": "code",
   "execution_count": 5,
   "id": "1bcbe9b3",
   "metadata": {},
   "outputs": [
    {
     "name": "stdout",
     "output_type": "stream",
     "text": [
      "3\n",
      "  H  \n",
      " HHH \n",
      "HHHHH\n",
      " HHH         HHH        \n",
      " HHH         HHH        \n",
      " HHH         HHH        \n",
      " HHH         HHH        \n",
      " HHHHHHHHHHHHHHH  \n",
      " HHHHHHHHHHHHHHH  \n",
      " HHH         HHH        \n",
      " HHH         HHH        \n",
      " HHH         HHH        \n",
      " HHH         HHH        \n",
      "            HHHHH \n",
      "             HHH  \n",
      "              H   \n"
     ]
    }
   ],
   "source": [
    "#Replace all ______ with rjust, ljust or center. \n",
    "\n",
    "thickness = int(input()) #This must be an odd number\n",
    "c = 'H'\n",
    "\n",
    "#Top Cone\n",
    "# replace_ To rjust | _ To  ljust\n",
    "for i in range(thickness):\n",
    "    print((c*i).rjust(thickness-1)+c+(c*i).ljust(thickness-1))\n",
    "\n",
    "#Top Pillars\n",
    "# replace _To center|_ To center\n",
    "for i in range(thickness+1):\n",
    "    print((c*thickness).center(thickness*2)+(c*thickness).center(thickness*6))\n",
    "\n",
    "#Middle Belt\n",
    "# replace ___ To center\n",
    "for i in range((thickness+1)//2):\n",
    "    print((c*thickness*5).center(thickness*6))    \n",
    "\n",
    "#Bottom Pillars\n",
    "# replace __ To center | ___ To center\n",
    "for i in range(thickness+1):\n",
    "    print((c*thickness).center(thickness*2)+(c*thickness).center(thickness*6))    \n",
    "\n",
    "#Bottom Cone\n",
    "# replace ____ To rjust |  ___ To ljust |  ___ To rjust\n",
    "for i in range(thickness):\n",
    "    print(((c*(thickness-i-1)).rjust(thickness)+c+(c*(thickness-i-1)).ljust(thickness)).rjust(thickness*6))\n"
   ]
  },
  {
   "cell_type": "markdown",
   "id": "4c96c8e8",
   "metadata": {},
   "source": [
    "7-Text Wrap"
   ]
  },
  {
   "cell_type": "code",
   "execution_count": null,
   "id": "ad20a274",
   "metadata": {},
   "outputs": [],
   "source": [
    "import textwrap\n",
    "def wrap(string, max_width):\n",
    "    return textwrap.fill(string,max_width)\n",
    "if __name__ == '__main__':\n",
    "    string, max_width = input(), int(input())\n",
    "    result = wrap(string, max_width)\n",
    "    print(result)"
   ]
  },
  {
   "cell_type": "markdown",
   "id": "90da0a66",
   "metadata": {},
   "source": [
    "8-Designer Door Mat:"
   ]
  },
  {
   "cell_type": "code",
   "execution_count": 8,
   "id": "0c0b71f5",
   "metadata": {},
   "outputs": [
    {
     "name": "stdout",
     "output_type": "stream",
     "text": [
      "7 21\n",
      "---------.|.---------\n",
      "------.|..|..|.------\n",
      "---.|..|..|..|..|.---\n",
      "-------WELCOME-------\n",
      "---.|..|..|..|..|.---\n",
      "------.|..|..|.------\n",
      "---------.|.---------\n"
     ]
    }
   ],
   "source": [
    "N, M = map(int, input().split())\n",
    "for i in range(1, N, 2):\n",
    "    print(str('.|.' * i).center(M, '-'))\n",
    "print('WELCOME'.center(M, '-'))\n",
    "for i in range(N-2, -1, -2):\n",
    "    print(str('.|.' * i).center(M, '-'))"
   ]
  },
  {
   "cell_type": "markdown",
   "id": "bf57269b",
   "metadata": {},
   "source": [
    "9-String Formatting:"
   ]
  },
  {
   "cell_type": "code",
   "execution_count": 9,
   "id": "2df529c9",
   "metadata": {},
   "outputs": [
    {
     "name": "stdout",
     "output_type": "stream",
     "text": [
      "2\n",
      " 1  1  1  1\n",
      " 2  2  2 10\n"
     ]
    }
   ],
   "source": [
    "def print_formatted(number):\n",
    "\n",
    "    width = len(\"{0:b}\".format(number))\n",
    "\n",
    "    for i in range(1, number + 1):\n",
    "        print(\"{0:{w}d} {0:{w}o} {0:{w}X} {0:{w}b}\".format(i, w = width))\n",
    "\n",
    "if __name__ == '__main__':\n",
    "    n = int(input())\n",
    "    print_formatted(n)"
   ]
  },
  {
   "cell_type": "markdown",
   "id": "fccdaa59",
   "metadata": {},
   "source": [
    " 10-Alphabet Rangoli:"
   ]
  },
  {
   "cell_type": "code",
   "execution_count": 12,
   "id": "ca398fd5",
   "metadata": {},
   "outputs": [
    {
     "name": "stdout",
     "output_type": "stream",
     "text": [
      "8\n",
      "--------------h--------------\n",
      "------------h-g-h------------\n",
      "----------h-g-f-g-h----------\n",
      "--------h-g-f-e-f-g-h--------\n",
      "------h-g-f-e-d-e-f-g-h------\n",
      "----h-g-f-e-d-c-d-e-f-g-h----\n",
      "--h-g-f-e-d-c-b-c-d-e-f-g-h--\n",
      "h-g-f-e-d-c-b-a-b-c-d-e-f-g-h\n",
      "--h-g-f-e-d-c-b-c-d-e-f-g-h--\n",
      "----h-g-f-e-d-c-d-e-f-g-h----\n",
      "------h-g-f-e-d-e-f-g-h------\n",
      "--------h-g-f-e-f-g-h--------\n",
      "----------h-g-f-g-h----------\n",
      "------------h-g-h------------\n",
      "--------------h--------------\n"
     ]
    }
   ],
   "source": [
    "def print_rangoli(size):\n",
    "\n",
    "    width = size + (size - 1) * 3\n",
    "\n",
    "    #top\n",
    "    for i in range(size, 0, -1):\n",
    "\n",
    "        line = list(reversed([chr(ord('a') + c) for c in range(i-1, size)]))\n",
    "\n",
    "        line += [chr(ord('a') + c) for c in range(i, size)]\n",
    "\n",
    "        print('-'.join(map(str, line)).center(width, '-'))\n",
    "\n",
    "    #bottom    \n",
    "    for i in range(1, size):\n",
    "\n",
    "        line = list(reversed([chr(ord('a') + c) for c in range(i , size)]))\n",
    "\n",
    "        line += [chr(ord('a') + c) for c in range(i + 1, size)]\n",
    "\n",
    "        print('-'.join(map(str, line)).center(width, '-'))\n",
    "\n",
    "if __name__ == '__main__':\n",
    "    n = int(input())\n",
    "    print_rangoli(n)"
   ]
  },
  {
   "cell_type": "markdown",
   "id": "33941fc4",
   "metadata": {},
   "source": [
    "11-Capitalize in Python:"
   ]
  },
  {
   "cell_type": "code",
   "execution_count": null,
   "id": "ebd27ef5",
   "metadata": {},
   "outputs": [],
   "source": [
    "#!/bin/python3\n",
    "\n",
    "import math\n",
    "import os\n",
    "import random\n",
    "import re\n",
    "import sys\n",
    "\n",
    "# Complete the solve function below.\n",
    "def solve(s):\n",
    "    # # Capitalize in Python - HackerRank Solution START\n",
    "    for i in s.split():\n",
    "        s = s.replace(i,i.capitalize())\n",
    "    return s\n",
    "    # Capitalize in Python - HackerRank Solution END\n",
    "\n",
    "if __name__ == '__main__':\n",
    "    fptr = open(os.environ['OUTPUT_PATH'], 'w')\n",
    "\n",
    "    s = input()\n",
    "\n",
    "    result = solve(s)\n",
    "\n",
    "    fptr.write(result + '\\n')\n",
    "\n",
    "    fptr.close()"
   ]
  },
  {
   "cell_type": "markdown",
   "id": "2cded945",
   "metadata": {},
   "source": [
    "12-The Minion Game:"
   ]
  },
  {
   "cell_type": "code",
   "execution_count": 13,
   "id": "3d64a163",
   "metadata": {},
   "outputs": [
    {
     "name": "stdout",
     "output_type": "stream",
     "text": [
      "BANANA\n",
      "Stuart 12\n"
     ]
    }
   ],
   "source": [
    "def is_vowel(letter):\n",
    "    return letter in ['A', 'E', 'I', 'O', 'U']\n",
    "\n",
    "def calculate_score(string, start_with_vowel):\n",
    "    l = len(string)\n",
    "    return sum([(l - i) for i in range(l) if is_vowel(string[i]) == start_with_vowel])\n",
    "\n",
    "def minion_game(string):\n",
    "\n",
    "    stuart_score = calculate_score(string, False)\n",
    "    kevin_score = calculate_score(string, True)\n",
    "\n",
    "    if stuart_score == kevin_score:\n",
    "        print('Draw')\n",
    "    elif stuart_score > kevin_score:\n",
    "        print('Stuart', stuart_score)\n",
    "    else:\n",
    "        print('Kevin', kevin_score)\n",
    "\n",
    "if __name__ == '__main__':\n",
    "    s = input()\n",
    "    minion_game(s)"
   ]
  },
  {
   "cell_type": "markdown",
   "id": "dd49e771",
   "metadata": {},
   "source": [
    "13-merge the tools:"
   ]
  },
  {
   "cell_type": "code",
   "execution_count": 14,
   "id": "60e769e9",
   "metadata": {},
   "outputs": [
    {
     "name": "stdout",
     "output_type": "stream",
     "text": [
      "AABCAAADA\n",
      "3\n",
      "AB\n",
      "CA\n",
      "AD\n"
     ]
    }
   ],
   "source": [
    "def merge_the_tools(string, k):\n",
    "    for i in range(0, len(string), k):\n",
    "        u = []\n",
    "        print(''.join([j for j in string[i:i+k] if not (j in u or u.append(j))]))\n",
    "\n",
    "if __name__ == '__main__':\n",
    "    string, k = input(), int(input())\n",
    "    merge_the_tools(string, k)"
   ]
  }
 ],
 "metadata": {
  "kernelspec": {
   "display_name": "Python 3",
   "language": "python",
   "name": "python3"
  }
 },
 "nbformat": 4,
 "nbformat_minor": 5
}
