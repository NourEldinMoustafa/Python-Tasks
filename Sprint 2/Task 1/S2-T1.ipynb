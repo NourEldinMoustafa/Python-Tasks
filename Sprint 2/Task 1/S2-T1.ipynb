{
 "cells": [
  {
   "cell_type": "markdown",
   "id": "4fbf9557",
   "metadata": {},
   "source": [
    "#https://www.hackerrank.com/domains/python?badge_type=python&filters%5Bsubdomains%5D%5B%5D=py-introduction\n",
    "\n",
    "-The provided code stub reads two integers,a and b, from STDIN.Add logic to print two lines. The first line should contain the result of integer division,\n",
    "// . The second line should contain the result of float division, /\n",
    "No rounding or formatting is necessary.\n",
    "Example\n",
    "\n"
   ]
  },
  {
   "cell_type": "code",
   "execution_count": 8,
   "id": "98380bf8",
   "metadata": {},
   "outputs": [
    {
     "name": "stdout",
     "output_type": "stream",
     "text": [
      "3\n",
      "4\n",
      "The result of the integer division: 0 \n",
      "The result of the integer division: 0.75\n"
     ]
    }
   ],
   "source": [
    "a = int(input())\n",
    "b = int(input())\n",
    "c=a//b\n",
    "d=a/b\n",
    "print(\"The result of the integer division:\",c,\"\\nThe result of the integer division:\",d)\n"
   ]
  },
  {
   "cell_type": "markdown",
   "id": "6b46684f",
   "metadata": {},
   "source": [
    "Given an integer, \n",
    ", perform the following conditional actions:\n",
    "If is odd, print Weird\n",
    "If is even and in the inclusive range of  to , print Not Weird\n",
    "If is even and in the inclusive range of  to \n",
    ",print Weird,If is even and greater than , print Not Weird\n",
    "Input Format\n",
    "A single line containing a positive integer, \n",
    ".Constraints\n",
    "Output Format Print Weird if the number is weird; otherwise, print Not Weird."
   ]
  },
  {
   "cell_type": "code",
   "execution_count": 9,
   "id": "d5aa7e05",
   "metadata": {},
   "outputs": [
    {
     "name": "stdout",
     "output_type": "stream",
     "text": [
      "2\n",
      "Not Weird\n"
     ]
    }
   ],
   "source": [
    "\n",
    "\n",
    "n = int(input())\n",
    "if n % 2 == 1:\n",
    "    print(\"Weird\")\n",
    "elif n % 2 == 0 and 2 <= n <= 5:\n",
    "    print(\"Not Weird\")\n",
    "elif n % 2 == 0 and 6 <= n <= 20:\n",
    "    print(\"Weird\")\n",
    "else:\n",
    "    print(\"Not Weird\")\n",
    "\n"
   ]
  },
  {
   "cell_type": "markdown",
   "id": "415dd083",
   "metadata": {},
   "source": [
    "The provided code stub reads and integer, n  , from STDIN. For all non-negative integers i<n, print i^2.\n",
    "\n",
    "Example:n=3\n",
    "The list of non-negative integers that are less than  n=3 is [0,1,2] . Print the square of each number on a separate line.\n",
    "      0\n",
    "      1\n",
    "      4"
   ]
  },
  {
   "cell_type": "code",
   "execution_count": 4,
   "id": "396f920a",
   "metadata": {},
   "outputs": [
    {
     "name": "stdout",
     "output_type": "stream",
     "text": [
      "5\n",
      "0\n",
      "1\n",
      "4\n",
      "9\n",
      "16\n"
     ]
    }
   ],
   "source": [
    "n = int(input())\n",
    "for i in range(n):\n",
    "    print(i*i)"
   ]
  },
  {
   "cell_type": "markdown",
   "id": "d466393d",
   "metadata": {},
   "source": [
    "The included code stub will read an integer,  n, from STDIN.Without using any string methods, try to print the following:   \n",
    "123...n.\n",
    "Note that \"\" represents the consecutive values in between.\n",
    "Example:\n",
    "     n=5 \n",
    "     Print the string 12345."
   ]
  },
  {
   "cell_type": "code",
   "execution_count": 10,
   "id": "d6917872",
   "metadata": {},
   "outputs": [
    {
     "name": "stdout",
     "output_type": "stream",
     "text": [
      "5\n",
      "12345"
     ]
    }
   ],
   "source": [
    "n = int(input())\n",
    "for i in range(n):\n",
    "        print(i+1,end=\"\")"
   ]
  },
  {
   "cell_type": "code",
   "execution_count": null,
   "id": "365bc6bd",
   "metadata": {},
   "outputs": [],
   "source": [
    "The provided code stub reads two integers from STDIN,  a and b. Add code to print three lines where:\n",
    "\n",
    " 1.The first line contains the sum of the two numbers.\n",
    " 2.The second line contains the difference of the two numbers (first - second).\n",
    " 3.The third line contains the product of the two numbers.\n",
    "\n",
    "\n",
    "Example:\n",
    "     a=3\n",
    "     b=5"
   ]
  },
  {
   "cell_type": "code",
   "execution_count": 3,
   "id": "f232fd67",
   "metadata": {},
   "outputs": [
    {
     "ename": "SyntaxError",
     "evalue": "unexpected character after line continuation character (<ipython-input-3-6182676b45d2>, line 6)",
     "output_type": "error",
     "traceback": [
      "\u001b[1;36m  File \u001b[1;32m\"<ipython-input-3-6182676b45d2>\"\u001b[1;36m, line \u001b[1;32m6\u001b[0m\n\u001b[1;33m    print(c\\n,d\\n,e)\u001b[0m\n\u001b[1;37m                    ^\u001b[0m\n\u001b[1;31mSyntaxError\u001b[0m\u001b[1;31m:\u001b[0m unexpected character after line continuation character\n"
     ]
    }
   ],
   "source": [
    "a = int(input())\n",
    "b = int(input())\n",
    "c=a+b\n",
    "d=a-b\n",
    "e=a*b\n",
    "print(c\\n,d\\n,e)"
   ]
  }
 ],
 "metadata": {
  "kernelspec": {
   "display_name": "Python 3",
   "language": "python",
   "name": "python3"
  },
  "language_info": {
   "codemirror_mode": {
    "name": "ipython",
    "version": 3
   },
   "file_extension": ".py",
   "mimetype": "text/x-python",
   "name": "python",
   "nbconvert_exporter": "python",
   "pygments_lexer": "ipython3",
   "version": "3.8.8"
  }
 },
 "nbformat": 4,
 "nbformat_minor": 5
}
