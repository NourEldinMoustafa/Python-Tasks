{
 "cells": [
  {
   "cell_type": "markdown",
   "id": "24b2fc16",
   "metadata": {},
   "source": [
    "https://www.hackerrank.com/domains/python?badge_type=python&filters[subdomains][]=py-debugging&filters[subdomains][]=xml&filters[subdomains][]=numpy&filters[subdomains][]=closures-and-decorators\n",
    "\n",
    "1-XML 1 - Find the Score"
   ]
  },
  {
   "cell_type": "code",
   "execution_count": null,
   "id": "43793902",
   "metadata": {},
   "outputs": [],
   "source": [
    "\n",
    "import sys\n",
    "import xml.etree.ElementTree as etree\n",
    "\n",
    "def get_attr_number(node):\n",
    "    count = 0\n",
    "    for tag in node:\n",
    "        count = count + get_attr_number(tag)\n",
    "    return count + len(node.attrib)\n",
    "if __name__ == '__main__':\n",
    "    sys.stdin.readline()\n",
    "    xml = sys.stdin.read()\n",
    "    tree = etree.ElementTree(etree.fromstring(xml))\n",
    "    root = tree.getroot()\n",
    "    print(get_attr_number(root))"
   ]
  },
  {
   "cell_type": "markdown",
   "id": "1803b0c4",
   "metadata": {},
   "source": [
    "2-XML2 - Find the Maximum Depth"
   ]
  },
  {
   "cell_type": "code",
   "execution_count": null,
   "id": "a2ab59e2",
   "metadata": {},
   "outputs": [],
   "source": [
    "import xml.etree.ElementTree as etree\n",
    "\n",
    "maxdepth = 0\n",
    "def depth(elem, level):\n",
    "    global maxdepth\n",
    "    if (level == maxdepth):\n",
    "        maxdepth += 1\n",
    "    for child in elem:\n",
    "        depth(child, level + 1)\n",
    "if __name__ == '__main__':\n",
    "    n = int(input())\n",
    "    xml = \"\"\n",
    "    for i in range(n):\n",
    "        xml =  xml + input() + \"\\n\"\n",
    "    tree = etree.ElementTree(etree.fromstring(xml))\n",
    "    depth(tree.getroot(), -1)\n",
    "    print(maxdepth)"
   ]
  },
  {
   "cell_type": "markdown",
   "id": "af3da82f",
   "metadata": {},
   "source": [
    "3-Standardize Mobile Number Using Decorators"
   ]
  },
  {
   "cell_type": "code",
   "execution_count": 3,
   "id": "78d695d0",
   "metadata": {},
   "outputs": [
    {
     "name": "stdout",
     "output_type": "stream",
     "text": [
      "1\n",
      "919875641230\n",
      "+91 98756 41230\n"
     ]
    }
   ],
   "source": [
    "def wrapper(f):\n",
    "    def fun(l):\n",
    "        f(['+91 ' + c[-10:-5] + ' ' + c[-5:] for c in l])\n",
    "    return fun\n",
    "\n",
    "@wrapper\n",
    "def sort_phone(l):\n",
    "    print(*sorted(l), sep='\\n')\n",
    "\n",
    "if __name__ == '__main__':\n",
    "    l = [input() for _ in range(int(input()))]\n",
    "    sort_phone(l) "
   ]
  },
  {
   "cell_type": "markdown",
   "id": "db34004b",
   "metadata": {},
   "source": [
    "4-Decorators 2 - Name Directory"
   ]
  },
  {
   "cell_type": "code",
   "execution_count": 4,
   "id": "96314f7c",
   "metadata": {},
   "outputs": [
    {
     "name": "stdout",
     "output_type": "stream",
     "text": [
      "1\n",
      "Mike Thomson 20 M\n",
      "Mr. Mike Thomson\n"
     ]
    }
   ],
   "source": [
    "import operator\n",
    "\n",
    "def person_lister(f):\n",
    "    def inner(people):\n",
    "\n",
    "        return map(f, sorted(people, key=lambda x: int(x[2])))\n",
    "    return inner\n",
    "\n",
    "@person_lister\n",
    "def name_format(person):\n",
    "    return (\"Mr. \" if person[3] == \"M\" else \"Ms. \") + person[0] + \" \" + person[1]\n",
    "\n",
    "if __name__ == '__main__':\n",
    "    people = [input().split() for i in range(int(input()))]\n",
    "    print(*name_format(people), sep='\\n')"
   ]
  },
  {
   "cell_type": "markdown",
   "id": "92142479",
   "metadata": {},
   "source": [
    "5-Words Score"
   ]
  },
  {
   "cell_type": "code",
   "execution_count": 5,
   "id": "527bc6b4",
   "metadata": {},
   "outputs": [
    {
     "name": "stdout",
     "output_type": "stream",
     "text": [
      "2\n",
      "hacker book\n",
      "4\n"
     ]
    }
   ],
   "source": [
    "def is_vowel(letter):\n",
    "    return letter in ['a', 'e', 'i', 'o', 'u', 'y']\n",
    "\n",
    "def score_words(words):\n",
    "    score = 0\n",
    "    for word in words:\n",
    "        num_vowels = 0\n",
    "        for letter in word:\n",
    "            if is_vowel(letter):\n",
    "                num_vowels += 1\n",
    "        if num_vowels % 2 == 0:\n",
    "            score += 2\n",
    "        else:\n",
    "            score += 1\n",
    "    return score\n",
    "\n",
    "n = int(input())\n",
    "words = input().split()\n",
    "print(score_words(words))"
   ]
  },
  {
   "cell_type": "markdown",
   "id": "6f635ed8",
   "metadata": {},
   "source": [
    "6-Arrays"
   ]
  },
  {
   "cell_type": "code",
   "execution_count": 7,
   "id": "c737c97c",
   "metadata": {},
   "outputs": [
    {
     "name": "stdout",
     "output_type": "stream",
     "text": [
      "1 2 3 4 -8 -10\n",
      "[-10.  -8.   4.   3.   2.   1.]\n"
     ]
    }
   ],
   "source": [
    "import numpy\n",
    "\n",
    "def arrays(arr):\n",
    "\n",
    "    return(numpy.array(arr[::-1], float))\n",
    "arr = input().strip().split(' ')\n",
    "result = arrays(arr)\n",
    "print(result)"
   ]
  },
  {
   "cell_type": "markdown",
   "id": "0a041c9b",
   "metadata": {},
   "source": [
    "7-Shape and Reshape"
   ]
  },
  {
   "cell_type": "code",
   "execution_count": 6,
   "id": "7310fd89",
   "metadata": {},
   "outputs": [
    {
     "name": "stdout",
     "output_type": "stream",
     "text": [
      "1 2 3 4 5 6 7 8 9\n",
      "[[1 2 3]\n",
      " [4 5 6]\n",
      " [7 8 9]]\n"
     ]
    }
   ],
   "source": [
    "import numpy\n",
    "# Shape and Reshape in Python - Hacker Rank Solution START\n",
    "print(numpy.array(input().split(), int).reshape(3, 3))"
   ]
  },
  {
   "cell_type": "markdown",
   "id": "61cae4e4",
   "metadata": {},
   "source": [
    "9-Transpose and Flatten"
   ]
  },
  {
   "cell_type": "code",
   "execution_count": 9,
   "id": "6ac8cb18",
   "metadata": {},
   "outputs": [
    {
     "name": "stdout",
     "output_type": "stream",
     "text": [
      "2 2\n",
      "1 2\n",
      "3 4\n",
      "[[1 3]\n",
      " [2 4]]\n",
      "[1 2 3 4]\n"
     ]
    }
   ],
   "source": [
    "import numpy\n",
    "n, m = map(int, input().split())\n",
    "\n",
    "storage = numpy.array([input().strip().split() for _ in range(n)], int)\n",
    "print (storage.transpose())\n",
    "print (storage.flatten())"
   ]
  },
  {
   "cell_type": "markdown",
   "id": "dda99f4c",
   "metadata": {},
   "source": [
    "10-Concatenate"
   ]
  },
  {
   "cell_type": "code",
   "execution_count": 10,
   "id": "56267332",
   "metadata": {},
   "outputs": [
    {
     "name": "stdout",
     "output_type": "stream",
     "text": [
      "1 1 1\n",
      "1 1 1\n",
      "1 1 1\n",
      "[[1 1 1]\n",
      " [1 1 1]]\n"
     ]
    }
   ],
   "source": [
    "import numpy\n",
    "P, N, M = map(int,input().split())\n",
    "A = numpy.array([input().split() for _ in range(P)],int)\n",
    "B = numpy.array([input().split() for _ in range(N)],int)\n",
    "print(numpy.concatenate((A, B), axis = 0))"
   ]
  },
  {
   "cell_type": "markdown",
   "id": "ebe036fc",
   "metadata": {},
   "source": [
    "11-Zeros and Ones"
   ]
  },
  {
   "cell_type": "code",
   "execution_count": 11,
   "id": "ee704125",
   "metadata": {},
   "outputs": [
    {
     "name": "stdout",
     "output_type": "stream",
     "text": [
      "    3 3 3\n",
      "[[[0 0 0]\n",
      "  [0 0 0]\n",
      "  [0 0 0]]\n",
      "\n",
      " [[0 0 0]\n",
      "  [0 0 0]\n",
      "  [0 0 0]]\n",
      "\n",
      " [[0 0 0]\n",
      "  [0 0 0]\n",
      "  [0 0 0]]]\n",
      "[[[1 1 1]\n",
      "  [1 1 1]\n",
      "  [1 1 1]]\n",
      "\n",
      " [[1 1 1]\n",
      "  [1 1 1]\n",
      "  [1 1 1]]\n",
      "\n",
      " [[1 1 1]\n",
      "  [1 1 1]\n",
      "  [1 1 1]]]\n"
     ]
    }
   ],
   "source": [
    "import numpy\n",
    "\n",
    "N = tuple(map(int, input().split()))\n",
    "print(numpy.zeros(N, int))\n",
    "print(numpy.ones(N, int))"
   ]
  },
  {
   "cell_type": "markdown",
   "id": "c11d6512",
   "metadata": {},
   "source": [
    "12-Eye and Identity"
   ]
  },
  {
   "cell_type": "code",
   "execution_count": 12,
   "id": "e67dad90",
   "metadata": {},
   "outputs": [
    {
     "name": "stdout",
     "output_type": "stream",
     "text": [
      "    3 3\n",
      "[[ 1.  0.  0.]\n",
      " [ 0.  1.  0.]\n",
      " [ 0.  0.  1.]]\n"
     ]
    }
   ],
   "source": [
    "import numpy\n",
    "\n",
    "numpy.set_printoptions(sign=' ')\n",
    "print(numpy.eye(*map(int, input().split())))"
   ]
  },
  {
   "cell_type": "markdown",
   "id": "6d8cab89",
   "metadata": {},
   "source": [
    "13-Array Mathematics"
   ]
  },
  {
   "cell_type": "code",
   "execution_count": 13,
   "id": "4e03e40e",
   "metadata": {},
   "outputs": [
    {
     "name": "stdout",
     "output_type": "stream",
     "text": [
      "1 4\n",
      "1 2 3 4\n",
      "5 6 7 8\n",
      "[[ 6  8 10 12]]\n",
      "[[-4 -4 -4 -4]]\n",
      "[[ 5 12 21 32]]\n",
      "[[0 0 0 0]]\n",
      "[[1 2 3 4]]\n",
      "[[    1    64  2187 65536]]\n"
     ]
    }
   ],
   "source": [
    "import numpy\n",
    "\n",
    "N, M = map(int, input().split())\n",
    "\n",
    "A = numpy.array([list(map(int, input().split())) for n in range(N)])\n",
    "B = numpy.array([list(map(int, input().split())) for n in range(N)])\n",
    "\n",
    "print(A + B)\n",
    "print(A - B)\n",
    "print(A * B)\n",
    "print(A // B)\n",
    "print(A % B)\n",
    "print(A ** B)"
   ]
  },
  {
   "cell_type": "markdown",
   "id": "b6b35ab1",
   "metadata": {},
   "source": [
    "14-Floor, Ceil and Rint"
   ]
  },
  {
   "cell_type": "code",
   "execution_count": 16,
   "id": "e64d29c1",
   "metadata": {},
   "outputs": [
    {
     "name": "stdout",
     "output_type": "stream",
     "text": [
      "    1.1 2.2 3.3 4.4 5.5 6.6 7.7 8.8 9.9\n",
      "[ 1.  2.  3.  4.  5.  6.  7.  8.  9.]\n",
      "[  2.   3.   4.   5.   6.   7.   8.   9.  10.]\n",
      "[  1.   2.   3.   4.   6.   7.   8.   9.  10.]\n"
     ]
    }
   ],
   "source": [
    "import numpy\n",
    "\n",
    "numpy.set_printoptions(sign=' ')\n",
    "\n",
    "array = numpy.array(input().split(),float)\n",
    "\n",
    "print(numpy.floor(array))\n",
    "print(numpy.ceil(array))\n",
    "print(numpy.rint(array))"
   ]
  },
  {
   "cell_type": "markdown",
   "id": "a906fe41",
   "metadata": {},
   "source": [
    "15-Sum and Prod"
   ]
  },
  {
   "cell_type": "code",
   "execution_count": null,
   "id": "2c9901f1",
   "metadata": {},
   "outputs": [],
   "source": [
    "import numpy\n",
    "\n",
    "N, M = map(int, input().split())\n",
    "A = numpy.array([input().split() for _ in range(N)], int)\n",
    "print(numpy.prod(numpy.sum(A, axis=0), axis=0))"
   ]
  },
  {
   "cell_type": "markdown",
   "id": "b7a4f0cf",
   "metadata": {},
   "source": [
    "16-Min and Max"
   ]
  },
  {
   "cell_type": "code",
   "execution_count": 15,
   "id": "05fd9b08",
   "metadata": {},
   "outputs": [
    {
     "name": "stdout",
     "output_type": "stream",
     "text": [
      "    4 2\n",
      "      2 5      \n",
      "3 7      \n",
      "1 3      \n",
      "4 0\n",
      "3\n"
     ]
    }
   ],
   "source": [
    "import numpy\n",
    "\n",
    "N, M = map(int, input().split())\n",
    "storage = numpy.array([input().split() for _ in range(N)],int)\n",
    "print(numpy.max(numpy.min(storage, axis=1), axis=0))"
   ]
  },
  {
   "cell_type": "markdown",
   "id": "852da5d1",
   "metadata": {},
   "source": [
    "17-Mean, Var, and Std"
   ]
  },
  {
   "cell_type": "code",
   "execution_count": null,
   "id": "58d1f612",
   "metadata": {},
   "outputs": [],
   "source": [
    "import numpy\n",
    "\n",
    "N,M = map(int, input().split())\n",
    "l = []\n",
    "\n",
    "for i in range(N):\n",
    "    a = list(map(int, input().split()))\n",
    "    l.append(a)\n",
    "\n",
    "l = numpy.array(l)\n",
    "\n",
    "numpy.set_printoptions(legacy='1.13')\n",
    "print(numpy.mean(l, axis = 1))\n",
    "print(numpy.var(l, axis = 0))\n",
    "print(numpy.std(l))"
   ]
  },
  {
   "cell_type": "markdown",
   "id": "0463d523",
   "metadata": {},
   "source": [
    "18-Dot and Cross"
   ]
  },
  {
   "cell_type": "code",
   "execution_count": 17,
   "id": "e46866f4",
   "metadata": {},
   "outputs": [
    {
     "name": "stdout",
     "output_type": "stream",
     "text": [
      "2\n",
      "1 2\n",
      "1 2\n",
      "3 4\n",
      "3 4\n",
      "[[ 9 12]\n",
      " [ 9 12]]\n"
     ]
    }
   ],
   "source": [
    "import numpy\n",
    "\n",
    "n = int(input())\n",
    "a = numpy.array([input().split() for _ in range(n)], int)\n",
    "b = numpy.array([input().split() for _ in range(n)], int)\n",
    "print(numpy.dot(a, b))"
   ]
  },
  {
   "cell_type": "markdown",
   "id": "c1354b32",
   "metadata": {},
   "source": [
    "19-Inner and Outer"
   ]
  },
  {
   "cell_type": "code",
   "execution_count": 18,
   "id": "c4685275",
   "metadata": {},
   "outputs": [
    {
     "name": "stdout",
     "output_type": "stream",
     "text": [
      "    0 1      \n",
      "2 3\n",
      "3\n",
      "[[0 0]\n",
      " [2 3]]\n"
     ]
    }
   ],
   "source": [
    "import numpy\n",
    "\n",
    "A=list(map(int,input().split()))\n",
    "B=list(map(int,input().split()))\n",
    "\n",
    "print(numpy.inner(A,B))\n",
    "print(numpy.outer(A,B))"
   ]
  },
  {
   "cell_type": "markdown",
   "id": "5d4310d5",
   "metadata": {},
   "source": [
    "20-Polynomials"
   ]
  },
  {
   "cell_type": "code",
   "execution_count": 19,
   "id": "f8174cb5",
   "metadata": {},
   "outputs": [
    {
     "name": "stdout",
     "output_type": "stream",
     "text": [
      "1.1 2 3\n",
      "0\n",
      "3.0\n"
     ]
    }
   ],
   "source": [
    "import numpy\n",
    "\n",
    "poly = [float(x) for x in input().split()]\n",
    "x = float(input())\n",
    "\n",
    "print(numpy.polyval(poly, x))"
   ]
  },
  {
   "cell_type": "markdown",
   "id": "7c3a40d4",
   "metadata": {},
   "source": [
    "21-Linear Algebra"
   ]
  },
  {
   "cell_type": "code",
   "execution_count": 21,
   "id": "49a51447",
   "metadata": {},
   "outputs": [
    {
     "name": "stdout",
     "output_type": "stream",
     "text": [
      "2\n",
      "1.1 1.1\n",
      "1.1 1.1\n",
      "0.0\n"
     ]
    }
   ],
   "source": [
    "import numpy\n",
    "N = int(input())\n",
    "A = numpy.array([input().split() for _ in range(N)], float)\n",
    "print(round(numpy.linalg.det(A),2))"
   ]
  }
 ],
 "metadata": {
  "kernelspec": {
   "display_name": "Python 3",
   "language": "python",
   "name": "python3"
  },
  "language_info": {
   "codemirror_mode": {
    "name": "ipython",
    "version": 3
   },
   "file_extension": ".py",
   "mimetype": "text/x-python",
   "name": "python",
   "nbconvert_exporter": "python",
   "pygments_lexer": "ipython3",
   "version": "3.8.8"
  }
 },
 "nbformat": 4,
 "nbformat_minor": 5
}
