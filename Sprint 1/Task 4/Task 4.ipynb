{
 "cells": [
  {
   "cell_type": "markdown",
   "metadata": {},
   "source": [
    "# 1- Question \n",
    "1-read you csv file (https://raw.githubusercontent.com/mwaskom/seaborn-data/master/diamonds.csv )\n",
    "\n",
    "2-print the first 5 rows \n",
    "\n",
    "3-print the shape of the data\n",
    "\n",
    "4- print and data type of each column"
   ]
  },
  {
   "cell_type": "code",
   "execution_count": 30,
   "metadata": {},
   "outputs": [
    {
     "name": "stdout",
     "output_type": "stream",
     "text": [
      "   carat      cut color clarity  depth  table  price     x     y     z\n",
      "0   0.23    Ideal     E     SI2   61.5     55    326  3.95  3.98  2.43\n",
      "1   0.21  Premium     E     SI1   59.8     61    326  3.89  3.84  2.31\n",
      "2   0.23     Good     E     VS1   56.9     65    327  4.05  4.07  2.31\n",
      "3   0.29  Premium     I     VS2   62.4     58    334  4.20  4.23  2.63\n",
      "4   0.31     Good     J     SI2   63.3     58    335  4.34  4.35  2.75\n",
      "Dataframe shape: (5, 10)\n",
      "data type of each column:\n",
      " carat      float64\n",
      "cut         object\n",
      "color       object\n",
      "clarity     object\n",
      "depth      float64\n",
      "table        int64\n",
      "price        int64\n",
      "x          float64\n",
      "y          float64\n",
      "z          float64\n",
      "dtype: object\n"
     ]
    }
   ],
   "source": [
    "\n",
    "import pandas as pd\n",
    "#read only the first 5 rows, pass 5 to nrows parameter.\n",
    "data = pd.read_csv('https://raw.githubusercontent.com/mwaskom/seaborn-data/master/diamonds.csv',nrows=5)\n",
    "#Render a Data to a console-friendly tabular output.using to_string()\n",
    "print(data.to_string())\n",
    "# print the shape of the dataframe\n",
    "print(\"Dataframe shape:\", data.shape)\n",
    "# print data type of each column\n",
    "print(\"data type of each column:\\n\", data.dtypes)\n"
   ]
  },
  {
   "cell_type": "markdown",
   "metadata": {},
   "source": [
    "# 2-Question\n",
    "1- print carat column\n",
    "\n",
    "2- Write a Pandas program to create a new 'Quality -color' Column (cut,color)\n",
    "\n",
    "examble => ( Ideal, E)"
   ]
  },
  {
   "cell_type": "code",
   "execution_count": 4,
   "metadata": {},
   "outputs": [
    {
     "name": "stdout",
     "output_type": "stream",
     "text": [
      "   carat\n",
      "0   0.23\n",
      "1   0.21\n",
      "2   0.23\n",
      "3   0.29\n",
      "4   0.31\n",
      "   carat      cut color clarity  depth  table  price     x     y     z  \\\n",
      "0   0.23    Ideal     E     SI2   61.5     55    326  3.95  3.98  2.43   \n",
      "1   0.21  Premium     E     SI1   59.8     61    326  3.89  3.84  2.31   \n",
      "2   0.23     Good     E     VS1   56.9     65    327  4.05  4.07  2.31   \n",
      "3   0.29  Premium     I     VS2   62.4     58    334  4.20  4.23  2.63   \n",
      "4   0.31     Good     J     SI2   63.3     58    335  4.34  4.35  2.75   \n",
      "\n",
      "  Quality–color  \n",
      "0      Ideal, E  \n",
      "1    Premium, E  \n",
      "2       Good, E  \n",
      "3    Premium, I  \n",
      "4       Good, J  \n"
     ]
    }
   ],
   "source": [
    "# print carat column\n",
    "print(data[['carat']])\n",
    "#create a new 'Quality -color' Column (cut,color)\n",
    "data['Quality–color'] = data.cut + ', ' + data.color\n",
    "print(data.head())\n"
   ]
  },
  {
   "cell_type": "markdown",
   "metadata": {},
   "source": [
    "# 3-Question\n",
    "1-Write a Pandas program to summarize the data.\n",
    "\n",
    "2- only one column => 'table'\n",
    "\n",
    "3- only 'float64' columns of the diamonds Dataframe. => include=['...']"
   ]
  },
  {
   "cell_type": "code",
   "execution_count": 5,
   "metadata": {},
   "outputs": [
    {
     "name": "stdout",
     "output_type": "stream",
     "text": [
      "Summarize of 'object' columns:\n",
      "            cut color clarity Quality–color\n",
      "count         5     5       5             5\n",
      "unique        3     3       4             5\n",
      "top     Premium     E     SI2    Premium, I\n",
      "freq          2     3       2             1\n"
     ]
    }
   ],
   "source": [
    "\n",
    "print(\"Summarize of 'object' columns:\")\n",
    "print(data.describe(include=['object']))"
   ]
  },
  {
   "cell_type": "markdown",
   "metadata": {},
   "source": [
    "# 4-Question\n",
    "Write a Pandas program to find the details of the diamonds where length>5, width>5 and depth>5. (x,y,z)"
   ]
  },
  {
   "cell_type": "code",
   "execution_count": 6,
   "metadata": {},
   "outputs": [
    {
     "name": "stdout",
     "output_type": "stream",
     "text": [
      "Original Dataframe:\n",
      "   carat      cut color clarity  depth  table  price     x     y     z  \\\n",
      "0   0.23    Ideal     E     SI2   61.5     55    326  3.95  3.98  2.43   \n",
      "1   0.21  Premium     E     SI1   59.8     61    326  3.89  3.84  2.31   \n",
      "2   0.23     Good     E     VS1   56.9     65    327  4.05  4.07  2.31   \n",
      "3   0.29  Premium     I     VS2   62.4     58    334  4.20  4.23  2.63   \n",
      "4   0.31     Good     J     SI2   63.3     58    335  4.34  4.35  2.75   \n",
      "\n",
      "  Quality–color  \n",
      "0      Ideal, E  \n",
      "1    Premium, E  \n",
      "2       Good, E  \n",
      "3    Premium, I  \n",
      "4       Good, J  \n",
      "\n",
      "Diamonds where length>5, width>5 and depth>5:\n",
      "Empty DataFrame\n",
      "Columns: [carat, cut, color, clarity, depth, table, price, x, y, z, Quality–color]\n",
      "Index: []\n"
     ]
    }
   ],
   "source": [
    "print(\"Original Dataframe:\")\n",
    "print(data.head())\n",
    "print(\"\\nDiamonds where length>5, width>5 and depth>5:\")\n",
    "result = data[(data.x>5) & (data.y>5) & (data.z>5)]\n",
    "print(result.head())"
   ]
  },
  {
   "cell_type": "markdown",
   "metadata": {},
   "source": [
    "# 5-Question\n",
    "1- rename one col\n",
    "\n",
    "2- rename two col togeather\n",
    "\n",
    "3- rename all col togeather"
   ]
  },
  {
   "cell_type": "code",
   "execution_count": 9,
   "metadata": {},
   "outputs": [
    {
     "name": "stdout",
     "output_type": "stream",
     "text": [
      "   newName1 newName2 newName3 newName4  depth  table  price     x     y     z  \\\n",
      "0      0.23    Ideal        E      SI2   61.5     55    326  3.95  3.98  2.43   \n",
      "1      0.21  Premium        E      SI1   59.8     61    326  3.89  3.84  2.31   \n",
      "2      0.23     Good        E      VS1   56.9     65    327  4.05  4.07  2.31   \n",
      "3      0.29  Premium        I      VS2   62.4     58    334  4.20  4.23  2.63   \n",
      "4      0.31     Good        J      SI2   63.3     58    335  4.34  4.35  2.75   \n",
      "\n",
      "  Quality–color  \n",
      "0      Ideal, E  \n",
      "1    Premium, E  \n",
      "2       Good, E  \n",
      "3    Premium, I  \n",
      "4       Good, J  \n"
     ]
    }
   ],
   "source": [
    "data = data.rename(columns={'carat': 'newName1'})\n",
    "data = data.rename(columns={ 'cut': 'newName2','color': 'newName3','clarity': 'newName4',})\n",
    "# Or rename the existing DataFrame (rather than creating a copy) \n",
    "print(data)"
   ]
  },
  {
   "cell_type": "markdown",
   "metadata": {},
   "source": [
    "# 6-Question\n",
    "Write a Pandas program to find the diamonds that are either Good or Very Good."
   ]
  },
  {
   "cell_type": "code",
   "execution_count": 12,
   "metadata": {},
   "outputs": [
    {
     "name": "stdout",
     "output_type": "stream",
     "text": [
      "Original Dataframe:\n",
      "   carat      cut color clarity  depth  table  price     x     y     z\n",
      "0   0.23    Ideal     E     SI2   61.5   55.0    326  3.95  3.98  2.43\n",
      "1   0.21  Premium     E     SI1   59.8   61.0    326  3.89  3.84  2.31\n",
      "2   0.23     Good     E     VS1   56.9   65.0    327  4.05  4.07  2.31\n",
      "3   0.29  Premium     I     VS2   62.4   58.0    334  4.20  4.23  2.63\n",
      "4   0.31     Good     J     SI2   63.3   58.0    335  4.34  4.35  2.75\n",
      "\n",
      "Diamonds that are either Good or Very Good:\n",
      "    carat   cut color clarity  depth  table  price     x     y     z\n",
      "2    0.23  Good     E     VS1   56.9   65.0    327  4.05  4.07  2.31\n",
      "4    0.31  Good     J     SI2   63.3   58.0    335  4.34  4.35  2.75\n",
      "10   0.30  Good     J     SI1   64.0   55.0    339  4.25  4.28  2.73\n",
      "17   0.30  Good     J     SI1   63.4   54.0    351  4.23  4.29  2.70\n",
      "18   0.30  Good     J     SI1   63.8   56.0    351  4.23  4.26  2.71\n"
     ]
    }
   ],
   "source": [
    "import pandas as pd\n",
    "diamonds = pd.read_csv('https://raw.githubusercontent.com/mwaskom/seaborn-data/master/diamonds.csv')\n",
    "print(\"Original Dataframe:\")\n",
    "print(diamonds.head())\n",
    "print(\"\\nDiamonds that are either Good or Very Good:\")\n",
    "result = diamonds[(diamonds.cut == 'Good') | (diamonds.cut == 'Very Good:')]\n",
    "print(result.head())"
   ]
  },
  {
   "cell_type": "markdown",
   "metadata": {},
   "source": [
    "# 7-Question\n",
    "1-print the name of all the columns\n",
    "\n",
    "2- Mean of each column\n",
    "\n",
    "3-Mean of each row of diamonds DataFrame:"
   ]
  },
  {
   "cell_type": "code",
   "execution_count": 25,
   "metadata": {},
   "outputs": [
    {
     "name": "stdout",
     "output_type": "stream",
     "text": [
      "Index(['carat', 'cut', 'color', 'clarity', 'depth', 'table', 'price', 'x', 'y',\n",
      "       'z'],\n",
      "      dtype='object')\n",
      "\n",
      "Mean of each column:\n",
      "carat       0.797940\n",
      "depth      61.749405\n",
      "table      57.457184\n",
      "price    3932.799722\n",
      "x           5.731157\n",
      "y           5.734526\n",
      "z           3.538734\n",
      "dtype: float64\n",
      "\n",
      "Mean of each row of diamonds DataFrame:\n",
      "0    64.727143\n",
      "1    65.292857\n",
      "2    65.651429\n",
      "3    66.535714\n",
      "4    66.864286\n",
      "dtype: float64\n"
     ]
    }
   ],
   "source": [
    "#print the name of all the columns.\n",
    "print(diamonds.columns)\n",
    "#Mean of each column.\n",
    "print(\"\\nMean of each column:\")\n",
    "print(diamonds.mean())\n",
    "#Mean of each row of diamonds DataFrame.\n",
    "print(\"\\nMean of each row of diamonds DataFrame:\")\n",
    "print(diamonds.mean(axis=1).head())\n"
   ]
  },
  {
   "cell_type": "markdown",
   "metadata": {},
   "source": [
    "# 8-Question\n",
    "1- mean of 'price' column only\n",
    "\n",
    "2- Write a Pandas program to calculate the mean of price for each cut of diamonds DataFrame.\n",
    "\n",
    "3-Write a Pandas program to calculate count, minimum, maximum price for each cut of diamonds DataFrame.\n",
    "\n",
    "4- count how many times each value in cut series of diamonds DataFrame occurs. value_counts()"
   ]
  },
  {
   "cell_type": "code",
   "execution_count": 26,
   "metadata": {},
   "outputs": [
    {
     "name": "stdout",
     "output_type": "stream",
     "text": [
      "Original Dataframe:\n",
      "   carat      cut color clarity  depth  table  price     x     y     z\n",
      "0   0.23    Ideal     E     SI2   61.5   55.0    326  3.95  3.98  2.43\n",
      "1   0.21  Premium     E     SI1   59.8   61.0    326  3.89  3.84  2.31\n",
      "2   0.23     Good     E     VS1   56.9   65.0    327  4.05  4.07  2.31\n",
      "3   0.29  Premium     I     VS2   62.4   58.0    334  4.20  4.23  2.63\n",
      "4   0.31     Good     J     SI2   63.3   58.0    335  4.34  4.35  2.75\n",
      "\n",
      "Calculate the mean of price for each cut:\n",
      "cut\n",
      "Fair         4358.757764\n",
      "Good         3928.864452\n",
      "Ideal        3457.541970\n",
      "Premium      4584.257704\n",
      "Very Good    3981.759891\n",
      "Name: price, dtype: float64\n"
     ]
    }
   ],
   "source": [
    "import pandas as pd\n",
    "diamonds = pd.read_csv('https://raw.githubusercontent.com/mwaskom/seaborn-data/master/diamonds.csv')\n",
    "print(\"Original Dataframe:\")\n",
    "print(diamonds.head())\n",
    "print(\"\\nCalculate the mean of price for each cut:\")\n",
    "print(diamonds.groupby('cut').price.mean())"
   ]
  },
  {
   "cell_type": "code",
   "execution_count": 29,
   "metadata": {},
   "outputs": [
    {
     "name": "stdout",
     "output_type": "stream",
     "text": [
      "\n",
      "Count, minimum, maximum  price for each cut of diamonds DataFrame:\n",
      "           count  min    max\n",
      "cut                         \n",
      "Fair        1610  337  18574\n",
      "Good        4906  327  18788\n",
      "Ideal      21551  326  18806\n",
      "Premium    13791  326  18823\n",
      "Very Good  12082  336  18818\n",
      "\n",
      "Number of times each value in cut series of diamonds DataFrame occurs:\n",
      "Ideal        21551\n",
      "Premium      13791\n",
      "Very Good    12082\n",
      "Good          4906\n",
      "Fair          1610\n",
      "Name: cut, dtype: int64\n"
     ]
    }
   ],
   "source": [
    "#count, minimum, maximum price for each cut of diamonds DataFrame\n",
    "print(\"\\nCount, minimum, maximum  price for each cut of diamonds DataFrame:\")\n",
    "print(diamonds.groupby('cut').price.agg(['count', 'min', 'max']))\n",
    "#count how many times each value in cut series of diamonds DataFrame occurs. value_counts()\n",
    "print(\"\\nNumber of times each value in cut series of diamonds DataFrame occurs:\")\n",
    "print(diamonds.cut.value_counts())"
   ]
  },
  {
   "cell_type": "markdown",
   "metadata": {},
   "source": [
    "# 9-Question\n",
    "Write a Pandas program to count the number of missing values in each Series of diamonds DataFrame."
   ]
  },
  {
   "cell_type": "code",
   "execution_count": 16,
   "metadata": {},
   "outputs": [
    {
     "name": "stdout",
     "output_type": "stream",
     "text": [
      "\n",
      "Number of missing values in each Series of diamonds DataFrame:\n",
      "carat      0\n",
      "cut        0\n",
      "color      0\n",
      "clarity    0\n",
      "depth      0\n",
      "table      0\n",
      "price      0\n",
      "x          0\n",
      "y          0\n",
      "z          0\n",
      "dtype: int64\n"
     ]
    }
   ],
   "source": [
    "print(\"\\nNumber of missing values in each Series of diamonds DataFrame:\")\n",
    "print(diamonds.isnull().sum())"
   ]
  }
 ],
 "metadata": {
  "kernelspec": {
   "display_name": "Python 3",
   "language": "python",
   "name": "python3"
  },
  "language_info": {
   "codemirror_mode": {
    "name": "ipython",
    "version": 3
   },
   "file_extension": ".py",
   "mimetype": "text/x-python",
   "name": "python",
   "nbconvert_exporter": "python",
   "pygments_lexer": "ipython3",
   "version": "3.8.8"
  }
 },
 "nbformat": 4,
 "nbformat_minor": 2
}
