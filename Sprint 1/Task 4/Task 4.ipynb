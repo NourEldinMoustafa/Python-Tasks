{
 "cells": [
  {
   "cell_type": "markdown",
   "metadata": {},
   "source": [
    "# 1- Question \n",
    "1-read you csv file (https://raw.githubusercontent.com/mwaskom/seaborn-data/master/diamonds.csv )\n",
    "\n",
    "2-print the first 5 rows \n",
    "\n",
    "3-print the shape of the data\n",
    "\n",
    "4- print and data type of each column"
   ]
  },
  {
   "cell_type": "code",
   "execution_count": null,
   "metadata": {},
   "outputs": [],
   "source": []
  },
  {
   "cell_type": "markdown",
   "metadata": {},
   "source": [
    "# 2-Question\n",
    "1- print carat column\n",
    "\n",
    "2- Write a Pandas program to create a new 'Quality -color' Column (cut,color)\n",
    "\n",
    "examble => ( Ideal, E)"
   ]
  },
  {
   "cell_type": "code",
   "execution_count": null,
   "metadata": {},
   "outputs": [],
   "source": []
  },
  {
   "cell_type": "markdown",
   "metadata": {},
   "source": [
    "# 3-Question\n",
    "1-Write a Pandas program to summarize the data.\n",
    "\n",
    "2- only one column => 'table'\n",
    "\n",
    "3- only 'float64' columns of the diamonds Dataframe. => include=['...']"
   ]
  },
  {
   "cell_type": "code",
   "execution_count": null,
   "metadata": {},
   "outputs": [],
   "source": []
  },
  {
   "cell_type": "markdown",
   "metadata": {},
   "source": [
    "# 4-Question\n",
    "Write a Pandas program to find the details of the diamonds where length>5, width>5 and depth>5. (x,y,z)"
   ]
  },
  {
   "cell_type": "code",
   "execution_count": null,
   "metadata": {},
   "outputs": [],
   "source": []
  },
  {
   "cell_type": "markdown",
   "metadata": {},
   "source": [
    "# 5-Question\n",
    "1- rename one col\n",
    "\n",
    "2- rename two col togeather\n",
    "\n",
    "3- rename all col togeather"
   ]
  },
  {
   "cell_type": "code",
   "execution_count": null,
   "metadata": {},
   "outputs": [],
   "source": []
  },
  {
   "cell_type": "markdown",
   "metadata": {},
   "source": [
    "# 6-Question\n",
    "Write a Pandas program to find the diamonds that are either Good or Very Good."
   ]
  },
  {
   "cell_type": "code",
   "execution_count": null,
   "metadata": {},
   "outputs": [],
   "source": []
  },
  {
   "cell_type": "markdown",
   "metadata": {},
   "source": [
    "# 7-Question\n",
    "1-print the name of all the columns\n",
    "\n",
    "2- Mean of each column\n",
    "\n",
    "3-Mean of each row of diamonds DataFrame:"
   ]
  },
  {
   "cell_type": "code",
   "execution_count": null,
   "metadata": {},
   "outputs": [],
   "source": []
  },
  {
   "cell_type": "markdown",
   "metadata": {},
   "source": [
    "# 8-Question\n",
    "1- mean of 'price' column only\n",
    "\n",
    "2- Write a Pandas program to calculate the mean of price for each cut of diamonds DataFrame.\n",
    "\n",
    "3-Write a Pandas program to calculate count, minimum, maximum price for each cut of diamonds DataFrame.\n",
    "\n",
    "4- count how many times each value in cut series of diamonds DataFrame occurs. value_counts()"
   ]
  },
  {
   "cell_type": "code",
   "execution_count": null,
   "metadata": {},
   "outputs": [],
   "source": []
  },
  {
   "cell_type": "markdown",
   "metadata": {},
   "source": [
    "# 9-Question\n",
    "Write a Pandas program to count the number of missing values in each Series of diamonds DataFrame."
   ]
  },
  {
   "cell_type": "code",
   "execution_count": null,
   "metadata": {},
   "outputs": [],
   "source": []
  },
  {
   "cell_type": "code",
   "execution_count": null,
   "metadata": {},
   "outputs": [],
   "source": []
  }
 ],
 "metadata": {
  "kernelspec": {
   "display_name": "Python 3",
   "language": "python",
   "name": "python3"
  },
  "language_info": {
   "codemirror_mode": {
    "name": "ipython",
    "version": 3
   },
   "file_extension": ".py",
   "mimetype": "text/x-python",
   "name": "python",
   "nbconvert_exporter": "python",
   "pygments_lexer": "ipython3",
   "version": "3.7.4"
  }
 },
 "nbformat": 4,
 "nbformat_minor": 2
}
