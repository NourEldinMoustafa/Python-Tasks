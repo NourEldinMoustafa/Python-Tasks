{
 "cells": [
  {
   "cell_type": "code",
   "execution_count": 1,
   "id": "b245cc55",
   "metadata": {},
   "outputs": [
    {
     "name": "stdout",
     "output_type": "stream",
     "text": [
      "plz enter 1st num5\n",
      "plz enter 2nd num3\n",
      "sum = 8.0\n",
      "sum = 2.0\n",
      "sum = 15.0\n"
     ]
    }
   ],
   "source": [
    "# read 1st number\n",
    "num1=input(\"plz enter 1st num\")\n",
    "# read 2nd number\n",
    "num2=input(\"plz enter 2nd num\")\n",
    "#convert numbers from str to float\n",
    "num1=float(num1)\n",
    "num2=float(num2)\n",
    "#print sum\n",
    "print('sum =',num1+num2)\n",
    "#print sub\n",
    "print('sum =',num1-num2)\n",
    "#print mul\n",
    "print('sum =',num1*num2)"
   ]
  },
  {
   "cell_type": "code",
   "execution_count": 6,
   "id": "6b84ddb2",
   "metadata": {},
   "outputs": [
    {
     "data": {
      "text/plain": [
       "True"
      ]
     },
     "execution_count": 6,
     "metadata": {},
     "output_type": "execute_result"
    }
   ],
   "source": [
    "#comparison operators\n",
    "12!=11"
   ]
  },
  {
   "cell_type": "code",
   "execution_count": 3,
   "id": "dda0b95c",
   "metadata": {},
   "outputs": [
    {
     "data": {
      "text/plain": [
       "True"
      ]
     },
     "execution_count": 3,
     "metadata": {},
     "output_type": "execute_result"
    }
   ],
   "source": [
    "#logical operators\n",
    "\n",
    "5<=4 or 6>=3"
   ]
  },
  {
   "cell_type": "code",
   "execution_count": 4,
   "id": "3271c4ad",
   "metadata": {},
   "outputs": [
    {
     "data": {
      "text/plain": [
       "True"
      ]
     },
     "execution_count": 4,
     "metadata": {},
     "output_type": "execute_result"
    }
   ],
   "source": [
    "9>=7 and 6>=3"
   ]
  },
  {
   "cell_type": "code",
   "execution_count": 5,
   "id": "206009c9",
   "metadata": {},
   "outputs": [
    {
     "data": {
      "text/plain": [
       "False"
      ]
     },
     "execution_count": 5,
     "metadata": {},
     "output_type": "execute_result"
    }
   ],
   "source": [
    "9<=7 and 6>=3"
   ]
  },
  {
   "cell_type": "code",
   "execution_count": 28,
   "id": "512ca954",
   "metadata": {},
   "outputs": [
    {
     "name": "stdout",
     "output_type": "stream",
     "text": [
      "plz enter your age: 21\n",
      "plz enter gender: f\n",
      "accepted\n"
     ]
    }
   ],
   "source": [
    "#if statment simple condition\n",
    "#Read age\n",
    "age= input('plz enter your age: ')\n",
    "gender=input('plz enter gender: ')\n",
    "#convert age\n",
    "age=float(age)\n",
    "#compare age\n",
    "if age<18 :\n",
    "    print('not accepted')\n",
    "elif age >=19 and gender =='m':\n",
    "        print('accepted')\n",
    "elif age >=21 and gender =='f':\n",
    "        print('accepted')        \n",
    "else:\n",
    "        print('undefined gender')"
   ]
  },
  {
   "cell_type": "code",
   "execution_count": 44,
   "id": "d6dbd675",
   "metadata": {},
   "outputs": [
    {
     "name": "stdout",
     "output_type": "stream",
     "text": [
      "plz enter number1: 2000\n",
      "plz enter number2: 2000\n",
      "plz enter operation: +\n",
      "sum is:  4000.0\n"
     ]
    }
   ],
   "source": [
    " #read 1st number\n",
    "num1 = input('plz enter number1: ')    \n",
    " #read 1st number\n",
    "num2 = input('plz enter number2: ') \n",
    " #enter the operation\n",
    "operation=input('plz enter operation: ') \n",
    "#convert operand to number\n",
    "num1=float(num1)\n",
    "num2=float(num2)\n",
    "#condition:\n",
    "if operation=='+':\n",
    "    print('sum is: ',num1+num2)\n",
    "elif operation=='-':\n",
    "    print('sub is: ',num1-num2)\n",
    "elif operation=='*':\n",
    "    print('mul is: ',num1*num2)\n",
    "elif operation=='/':\n",
    "    print('div is: ',num1/num2)\n",
    "else:\n",
    "    print('operation is not defined')"
   ]
  },
  {
   "cell_type": "code",
   "execution_count": 79,
   "id": "923d1555",
   "metadata": {},
   "outputs": [
    {
     "name": "stdout",
     "output_type": "stream",
     "text": [
      "[1, 2, 3, 4, 5, 6, 7, 8, 9]\n",
      "[2.1, 3.4]\n",
      "[1, 2, 3, 'ali', 'mohamed']\n"
     ]
    }
   ],
   "source": [
    "#Arrays\n",
    "numlist=[1,2,3,4,5,6,7,8,9]\n",
    "floatlist=[2.1,3.4]\n",
    "list1=[1,2,3,'ali','mohamed']\n",
    "print(numlist)\n",
    "print(floatlist)\n",
    "print(list1)"
   ]
  },
  {
   "cell_type": "code",
   "execution_count": 51,
   "id": "271c7583",
   "metadata": {},
   "outputs": [
    {
     "data": {
      "text/plain": [
       "[1, 2, 3]"
      ]
     },
     "execution_count": 51,
     "metadata": {},
     "output_type": "execute_result"
    }
   ],
   "source": [
    "#print the range the array\n",
    "numlist[0:3]"
   ]
  },
  {
   "cell_type": "code",
   "execution_count": 50,
   "id": "78614ac8",
   "metadata": {},
   "outputs": [
    {
     "data": {
      "text/plain": [
       "5"
      ]
     },
     "execution_count": 50,
     "metadata": {},
     "output_type": "execute_result"
    }
   ],
   "source": [
    "#to search for instance from behind in the array\n",
    "numlist[-5]"
   ]
  },
  {
   "cell_type": "code",
   "execution_count": 52,
   "id": "9bd473be",
   "metadata": {},
   "outputs": [
    {
     "data": {
      "text/plain": [
       "[3, 4, 5, 6, 7, 8, 9]"
      ]
     },
     "execution_count": 52,
     "metadata": {},
     "output_type": "execute_result"
    }
   ],
   "source": [
    "#start showing from the index num 3\n",
    "numlist[2:]"
   ]
  },
  {
   "cell_type": "code",
   "execution_count": 70,
   "id": "5dc084fa",
   "metadata": {},
   "outputs": [
    {
     "data": {
      "text/plain": [
       "[1, 2, 3, 'samy']"
      ]
     },
     "execution_count": 70,
     "metadata": {},
     "output_type": "execute_result"
    }
   ],
   "source": [
    "list1[3]='samy'\n",
    "list1"
   ]
  },
  {
   "cell_type": "code",
   "execution_count": 80,
   "id": "b2c74db7",
   "metadata": {},
   "outputs": [
    {
     "data": {
      "text/plain": [
       "[1, 2, 'ali', 'mohamed']"
      ]
     },
     "execution_count": 80,
     "metadata": {},
     "output_type": "execute_result"
    }
   ],
   "source": [
    "#to delete instance from the array\n",
    "del(list1[2])\n",
    "list1"
   ]
  },
  {
   "cell_type": "code",
   "execution_count": 82,
   "id": "2883a71b",
   "metadata": {},
   "outputs": [
    {
     "data": {
      "text/plain": [
       "4"
      ]
     },
     "execution_count": 82,
     "metadata": {},
     "output_type": "execute_result"
    }
   ],
   "source": [
    "#to count the length of the array\n",
    "len(list1)"
   ]
  },
  {
   "cell_type": "code",
   "execution_count": 87,
   "id": "1e35008a",
   "metadata": {},
   "outputs": [
    {
     "name": "stdout",
     "output_type": "stream",
     "text": [
      "the name is exist\n"
     ]
    }
   ],
   "source": [
    "#to search for instance in the array\n",
    "if 'ali' in list1:\n",
    "    print('the name is exist')\n",
    "else:\n",
    "    print('the name doesnt exist')"
   ]
  },
  {
   "cell_type": "code",
   "execution_count": 114,
   "id": "aca5bb42",
   "metadata": {},
   "outputs": [
    {
     "name": "stdout",
     "output_type": "stream",
     "text": [
      "9\n",
      "3.4\n",
      "ali\n"
     ]
    }
   ],
   "source": [
    "#to find minmum and maximum of numbers\n",
    "numlist2=[1,2,3,4,5,6,7,8,9]\n",
    "floatlist2=[2.1,3.4]\n",
    "list2=['mohey','shehab','hussien','ali','mohamed']\n",
    "print(max(numlist2))\n",
    "print(max(floatlist2))\n",
    "print(min(list2))"
   ]
  },
  {
   "cell_type": "code",
   "execution_count": 115,
   "id": "db178b92",
   "metadata": {},
   "outputs": [
    {
     "data": {
      "text/plain": [
       "['mohey', 'shehab', 'hussien', 'ali', 'mohamed', 'abdullah']"
      ]
     },
     "execution_count": 115,
     "metadata": {},
     "output_type": "execute_result"
    }
   ],
   "source": [
    "#adding element at the nd of the array\n",
    "list2.append('abdullah')\n",
    "list2"
   ]
  },
  {
   "cell_type": "code",
   "execution_count": 125,
   "id": "62d97b2d",
   "metadata": {},
   "outputs": [
    {
     "data": {
      "text/plain": [
       "[1, 2, 3, 4, 5, 6, 7, 8, 9, '10', 10, 10, 10, 10, 10, 10]"
      ]
     },
     "execution_count": 125,
     "metadata": {},
     "output_type": "execute_result"
    }
   ],
   "source": [
    "numlist2.append(10)\n",
    "numlist2"
   ]
  },
  {
   "cell_type": "code",
   "execution_count": 123,
   "id": "01734f21",
   "metadata": {},
   "outputs": [
    {
     "data": {
      "text/plain": [
       "[2.1, 3.4, 5.9, 5.9, 5.9]"
      ]
     },
     "execution_count": 123,
     "metadata": {},
     "output_type": "execute_result"
    }
   ],
   "source": [
    "floatlist2.append(5.9)\n",
    "floatlist2"
   ]
  },
  {
   "cell_type": "code",
   "execution_count": 127,
   "id": "edb0e9f3",
   "metadata": {},
   "outputs": [
    {
     "data": {
      "text/plain": [
       "3"
      ]
     },
     "execution_count": 127,
     "metadata": {},
     "output_type": "execute_result"
    }
   ],
   "source": [
    "#count Frequency of element\n",
    "floatlist2.count(5.9)"
   ]
  },
  {
   "cell_type": "code",
   "execution_count": 129,
   "id": "fdb8c95b",
   "metadata": {},
   "outputs": [],
   "source": [
    "#adding two arrays of any type\n",
    "numlist2.extend(floatlist2)"
   ]
  },
  {
   "cell_type": "code",
   "execution_count": 131,
   "id": "7b7584fd",
   "metadata": {},
   "outputs": [
    {
     "data": {
      "text/plain": [
       "[1,\n",
       " 2,\n",
       " 3,\n",
       " 4,\n",
       " 5,\n",
       " 6,\n",
       " 7,\n",
       " 8,\n",
       " 9,\n",
       " '10',\n",
       " 10,\n",
       " 10,\n",
       " 10,\n",
       " 10,\n",
       " 10,\n",
       " 10,\n",
       " 2.1,\n",
       " 3.4,\n",
       " 5.9,\n",
       " 5.9,\n",
       " 5.9,\n",
       " 2.1,\n",
       " 3.4,\n",
       " 5.9,\n",
       " 5.9,\n",
       " 5.9]"
      ]
     },
     "execution_count": 131,
     "metadata": {},
     "output_type": "execute_result"
    }
   ],
   "source": [
    "numlist2"
   ]
  },
  {
   "cell_type": "code",
   "execution_count": 132,
   "id": "bb6c2db3",
   "metadata": {},
   "outputs": [
    {
     "data": {
      "text/plain": [
       "10"
      ]
     },
     "execution_count": 132,
     "metadata": {},
     "output_type": "execute_result"
    }
   ],
   "source": [
    "#find the index number of element\n",
    "numlist2.index(10)"
   ]
  },
  {
   "cell_type": "code",
   "execution_count": 134,
   "id": "5f3331f3",
   "metadata": {},
   "outputs": [
    {
     "data": {
      "text/plain": [
       "[1,\n",
       " 2,\n",
       " 3,\n",
       " 4,\n",
       " 5,\n",
       " 6,\n",
       " 7,\n",
       " 8,\n",
       " 9,\n",
       " '10',\n",
       " 10,\n",
       " 'ziko',\n",
       " 'ziko',\n",
       " 10,\n",
       " 10,\n",
       " 10,\n",
       " 10,\n",
       " 10,\n",
       " 2.1,\n",
       " 3.4,\n",
       " 5.9,\n",
       " 5.9,\n",
       " 5.9,\n",
       " 2.1,\n",
       " 3.4,\n",
       " 5.9,\n",
       " 5.9,\n",
       " 5.9]"
      ]
     },
     "execution_count": 134,
     "metadata": {},
     "output_type": "execute_result"
    }
   ],
   "source": [
    "#inserting element in specific place in the array\n",
    "numlist2.insert(11,'ziko')\n",
    "numlist2"
   ]
  },
  {
   "cell_type": "code",
   "execution_count": 140,
   "id": "75740979",
   "metadata": {},
   "outputs": [
    {
     "data": {
      "text/plain": [
       "[1,\n",
       " 2,\n",
       " 3,\n",
       " 4,\n",
       " 5,\n",
       " 6,\n",
       " 7,\n",
       " 8,\n",
       " 9,\n",
       " '10',\n",
       " 10,\n",
       " 'ziko',\n",
       " 'ziko',\n",
       " 10,\n",
       " 10,\n",
       " 10,\n",
       " 10,\n",
       " 10,\n",
       " 2.1,\n",
       " 3.4,\n",
       " 5.9,\n",
       " 5.9,\n",
       " 5.9,\n",
       " 2.1,\n",
       " 3.4,\n",
       " 5.9,\n",
       " 5.9,\n",
       " 5.9,\n",
       " 'samy',\n",
       " 'samy',\n",
       " 'samy',\n",
       " 'samy']"
      ]
     },
     "execution_count": 140,
     "metadata": {},
     "output_type": "execute_result"
    }
   ],
   "source": [
    " #remove last element from the array\n",
    "numlist2.append('samy')\n",
    "numlist2.pop\n",
    "numlist2  "
   ]
  },
  {
   "cell_type": "code",
   "execution_count": 141,
   "id": "a9cf08b9",
   "metadata": {},
   "outputs": [
    {
     "data": {
      "text/plain": [
       "[1, 2, 3, 4, 6, 7, 8, 9]"
      ]
     },
     "execution_count": 141,
     "metadata": {},
     "output_type": "execute_result"
    }
   ],
   "source": [
    " #remove element(number or string) from the array\n",
    "numlist3=[1,2,3,4,5,6,7,8,9]\n",
    "numlist3.remove(5)\n",
    "numlist3"
   ]
  },
  {
   "cell_type": "code",
   "execution_count": 143,
   "id": "101032d4",
   "metadata": {},
   "outputs": [
    {
     "data": {
      "text/plain": [
       "[9, 8, 7, 6, 5, 4, 3, 2, 1]"
      ]
     },
     "execution_count": 143,
     "metadata": {},
     "output_type": "execute_result"
    }
   ],
   "source": [
    " #reverse elements of the array from Z to A\n",
    "numlist3=[1,2,3,4,5,6,7,8,9]\n",
    "numlist3.reverse()\n",
    "numlist3"
   ]
  },
  {
   "cell_type": "code",
   "execution_count": 144,
   "id": "671c927f",
   "metadata": {},
   "outputs": [
    {
     "data": {
      "text/plain": [
       "['ali', 'bassem', 'celina', 'sayed', 'tamer', 'zaki']"
      ]
     },
     "execution_count": 144,
     "metadata": {},
     "output_type": "execute_result"
    }
   ],
   "source": [
    "#sorting the elements of the array\n",
    "names=['tamer','celina','ali','bassem','zaki','sayed']\n",
    "names.sort()\n",
    "names"
   ]
  },
  {
   "cell_type": "code",
   "execution_count": 154,
   "id": "81b81507",
   "metadata": {},
   "outputs": [],
   "source": [
    "#tuble function\n",
    "#you can delete all tuble but you cant delete one element from th tuble.\n",
    "#del(namest)\n",
    "namest=('tamer','celina','ali','bassem','zaki','sayed')\n"
   ]
  },
  {
   "cell_type": "code",
   "execution_count": 155,
   "id": "687f9fe4",
   "metadata": {},
   "outputs": [
    {
     "data": {
      "text/plain": [
       "tuple"
      ]
     },
     "execution_count": 155,
     "metadata": {},
     "output_type": "execute_result"
    }
   ],
   "source": [
    "type(namest)"
   ]
  },
  {
   "cell_type": "code",
   "execution_count": 158,
   "id": "ac854d77",
   "metadata": {},
   "outputs": [],
   "source": [
    "namest=list(namest)"
   ]
  },
  {
   "cell_type": "code",
   "execution_count": 159,
   "id": "a36a7006",
   "metadata": {},
   "outputs": [
    {
     "data": {
      "text/plain": [
       "list"
      ]
     },
     "execution_count": 159,
     "metadata": {},
     "output_type": "execute_result"
    }
   ],
   "source": [
    "type(namest)"
   ]
  },
  {
   "cell_type": "code",
   "execution_count": 8,
   "id": "fb8f346b",
   "metadata": {},
   "outputs": [
    {
     "data": {
      "text/plain": [
       "'salah'"
      ]
     },
     "execution_count": 8,
     "metadata": {},
     "output_type": "execute_result"
    }
   ],
   "source": [
    "#dictionary\n",
    "search={'name':'hazem','age':27,'name':'salah'}\n",
    "search['name']"
   ]
  },
  {
   "cell_type": "code",
   "execution_count": 184,
   "id": "9cc09123",
   "metadata": {},
   "outputs": [
    {
     "name": "stdout",
     "output_type": "stream",
     "text": [
      "{'name': 'salah'}\n"
     ]
    }
   ],
   "source": [
    "del(search['age'])\n",
    "print(search)"
   ]
  },
  {
   "cell_type": "code",
   "execution_count": 197,
   "id": "48757545",
   "metadata": {},
   "outputs": [
    {
     "name": "stdout",
     "output_type": "stream",
     "text": [
      "plz enter your name: NOUR\n",
      "welcome ya NOUR in machine learning\n"
     ]
    }
   ],
   "source": [
    "#strings\n",
    "msg=('welcome ya %s in machine learning') %input('plz enter your name: ')\n",
    "print(msg)"
   ]
  },
  {
   "cell_type": "code",
   "execution_count": 210,
   "id": "f091111b",
   "metadata": {},
   "outputs": [
    {
     "data": {
      "text/plain": [
       "[2, 4, 6, 8]"
      ]
     },
     "execution_count": 210,
     "metadata": {},
     "output_type": "execute_result"
    }
   ],
   "source": [
    "#range between rwo numbers\n",
    "#the third number is n+3rd\n",
    "numbers= range(2,10,2)\n",
    "numbers=list(numbers)\n",
    "numbers"
   ]
  },
  {
   "cell_type": "code",
   "execution_count": 214,
   "id": "6f377915",
   "metadata": {},
   "outputs": [
    {
     "data": {
      "text/plain": [
       "False"
      ]
     },
     "execution_count": 214,
     "metadata": {},
     "output_type": "execute_result"
    }
   ],
   "source": [
    "#explore the number is in the list or not\n",
    "5 in numbers"
   ]
  },
  {
   "cell_type": "code",
   "execution_count": 251,
   "id": "a7f86164",
   "metadata": {},
   "outputs": [
    {
     "name": "stdout",
     "output_type": "stream",
     "text": [
      "0\n",
      "1\n",
      "2\n",
      "3\n",
      "4\n",
      "5\n",
      "6\n",
      "7\n",
      "8\n",
      "9\n",
      "10\n",
      "11\n",
      "12\n",
      "13\n",
      "14\n"
     ]
    }
   ],
   "source": [
    "# for loop showing range of numbers horizontally\n",
    "for n in range(15):\n",
    "    print(n)"
   ]
  },
  {
   "cell_type": "code",
   "execution_count": 265,
   "id": "fb09a2ce",
   "metadata": {},
   "outputs": [
    {
     "name": "stdout",
     "output_type": "stream",
     "text": [
      "plz enter your name: hussein\n",
      "w\n",
      "e\n",
      "l\n",
      "c\n",
      "o\n",
      "m\n",
      "e\n",
      " \n",
      "y\n",
      "a\n",
      " \n",
      "h\n",
      "u\n",
      "s\n",
      "s\n",
      "e\n",
      "i\n",
      "n\n",
      " \n",
      "i\n",
      "n\n",
      " \n",
      "m\n",
      "a\n",
      "c\n",
      "h\n",
      "i\n",
      "n\n",
      "e\n",
      " \n",
      "l\n",
      "e\n",
      "a\n",
      "r\n",
      "n\n",
      "i\n",
      "n\n",
      "g\n"
     ]
    }
   ],
   "source": [
    "msssg=('welcome ya %s in machine learning') %input('plz enter your name: ')\n",
    "\n",
    "for s in range(len(msssg)):\n",
    "    print(msssg[s])"
   ]
  },
  {
   "cell_type": "code",
   "execution_count": 268,
   "id": "4f95ed7a",
   "metadata": {},
   "outputs": [
    {
     "name": "stdout",
     "output_type": "stream",
     "text": [
      "plz enter your name: s\n",
      "w\n",
      "e\n",
      "l\n",
      "c\n",
      "o\n",
      "m\n",
      "e\n",
      " \n",
      "y\n",
      "a\n",
      " \n",
      "s\n",
      " \n",
      "i\n",
      "n\n",
      " \n",
      "m\n",
      "a\n",
      "c\n",
      "h\n",
      "i\n",
      "n\n",
      "e\n",
      " \n",
      "l\n",
      "e\n",
      "a\n",
      "r\n",
      "n\n",
      "i\n",
      "n\n",
      "g\n"
     ]
    }
   ],
   "source": [
    "mvg=('welcome ya %s in machine learning') %input('plz enter your name: ')\n",
    "for s in(mvg):print(s)"
   ]
  },
  {
   "cell_type": "code",
   "execution_count": 271,
   "id": "36e41eb3",
   "metadata": {},
   "outputs": [
    {
     "name": "stdout",
     "output_type": "stream",
     "text": [
      "mohey\n",
      "shehab\n",
      "hussien\n",
      "ali\n",
      "mohamed\n"
     ]
    }
   ],
   "source": [
    "list4=['mohey','shehab','hussien','ali','mohamed']\n",
    "for n in(list4):print(n)"
   ]
  },
  {
   "cell_type": "code",
   "execution_count": 283,
   "id": "eb888a25",
   "metadata": {},
   "outputs": [
    {
     "name": "stdout",
     "output_type": "stream",
     "text": [
      "name,mohey\n",
      "age,29\n",
      "gender,male\n"
     ]
    }
   ],
   "source": [
    "#for loop two elements\n",
    "details={'name':'mohey','age':'29','gender':'male'}\n",
    "for key,value in details.items():\n",
    "    print(key+\",\"+value)"
   ]
  },
  {
   "cell_type": "code",
   "execution_count": 20,
   "id": "2ec9893f",
   "metadata": {},
   "outputs": [
    {
     "name": "stdout",
     "output_type": "stream",
     "text": [
      "plz enter the number:1\n",
      "continue\n",
      "plz enter the number:2\n",
      "bye bye\n",
      "continue\n",
      "plz enter the number:3\n",
      "bye bye\n",
      "continue\n",
      "plz enter the number:0\n",
      "bye bye\n"
     ]
    }
   ],
   "source": [
    "numl= input('plz enter the number:')\n",
    "while numl != '0':\n",
    "    print('continue')\n",
    "    numl = input('plz enter the number:')\n",
    "    print('bye bye')"
   ]
  },
  {
   "cell_type": "code",
   "execution_count": 28,
   "id": "590aa0f6",
   "metadata": {},
   "outputs": [
    {
     "name": "stdout",
     "output_type": "stream",
     "text": [
      "*@_@*@_@*@_@*@_@*@_@"
     ]
    }
   ],
   "source": [
    "#repeat something vertically\n",
    "for i in range(0,5):\n",
    "    print('*',end='@_@')\n"
   ]
  },
  {
   "cell_type": "code",
   "execution_count": 38,
   "id": "95d6c163",
   "metadata": {},
   "outputs": [
    {
     "name": "stdout",
     "output_type": "stream",
     "text": [
      "*****\n",
      "\n",
      "*****\n",
      "\n",
      "*****\n",
      "\n",
      "*****\n",
      "\n",
      "*****\n",
      "\n"
     ]
    }
   ],
   "source": [
    "for line in range(1,6):\n",
    "    for i in range(0,5):\n",
    "        print('*',end='')\n",
    "    print('\\n')"
   ]
  },
  {
   "cell_type": "code",
   "execution_count": 4,
   "id": "1f8d8595",
   "metadata": {},
   "outputs": [
    {
     "name": "stdout",
     "output_type": "stream",
     "text": [
      "5\n",
      "0\n",
      "1\n",
      "4\n",
      "9\n",
      "16\n"
     ]
    }
   ],
   "source": [
    "#https://www.hackerrank.com/challenges/python-loops/problem?isFullScreen=true\n",
    "numbr= int(input())\n",
    "for i in range(numbr):print(i*i)"
   ]
  },
  {
   "cell_type": "code",
   "execution_count": 15,
   "id": "fb81cbcc",
   "metadata": {},
   "outputs": [
    {
     "name": "stdout",
     "output_type": "stream",
     "text": [
      "p\n",
      "y\n",
      "t\n"
     ]
    }
   ],
   "source": [
    "#loop: breaking the loop using break function\n",
    "welcom='python'\n",
    "for n in (welcom):\n",
    "    if n =='h':\n",
    "        break\n",
    "    print(n)\n"
   ]
  },
  {
   "cell_type": "code",
   "execution_count": 56,
   "id": "e45c712e",
   "metadata": {},
   "outputs": [],
   "source": [
    "#functions\n",
    "#looping a function  using star in a nested loop \n",
    "def printstar(row,column):\n",
    "    \n",
    "    for line in range(row):\n",
    "        for i in range(0,column):\n",
    "            print('*',end='')\n",
    "        print('\\n')"
   ]
  },
  {
   "cell_type": "code",
   "execution_count": 57,
   "id": "63972e09",
   "metadata": {},
   "outputs": [
    {
     "name": "stdout",
     "output_type": "stream",
     "text": [
      "***\n",
      "\n",
      "***\n",
      "\n",
      "  welcome\n",
      "**********\n",
      "\n",
      "**********\n",
      "\n",
      "**********\n",
      "\n",
      "**********\n",
      "\n",
      "**********\n",
      "\n"
     ]
    }
   ],
   "source": [
    "printstar(2,3)\n",
    "\n",
    "print('  welcome')\n",
    "printstar(5,10)\n"
   ]
  },
  {
   "cell_type": "code",
   "execution_count": 58,
   "id": "9b4894a4",
   "metadata": {},
   "outputs": [],
   "source": [
    "def datasetcells(row,column):\n",
    "    for num in range(row):\n",
    "        for i in range(2,column):\n",
    "            print('@',end='')\n",
    "        print('\\n')"
   ]
  },
  {
   "cell_type": "code",
   "execution_count": 64,
   "id": "a9a5e2df",
   "metadata": {},
   "outputs": [
    {
     "name": "stdout",
     "output_type": "stream",
     "text": [
      "@@@@@@@@@@@@@@@@@@@@@@@@@@@@\n",
      "\n",
      "@@@@@@@@@@@@@@@@@@@@@@@@@@@@\n",
      "\n",
      "@@@@@@@@@@@@@@@@@@@@@@@@@@@@\n",
      "\n",
      "  welcome to hacker rank\n",
      "@@@@@@@@@@@@@@@@@@@@@@@@@@\n",
      "\n",
      "@@@@@@@@@@@@@@@@@@@@@@@@@@\n",
      "\n",
      "@@@@@@@@@@@@@@@@@@@@@@@@@@\n",
      "\n"
     ]
    }
   ],
   "source": [
    "#calling the function that already have been done with different parameters\n",
    "datasetcells(3,30)\n",
    "print('  welcome to hacker rank')\n",
    "datasetcells(3,28)"
   ]
  },
  {
   "cell_type": "code",
   "execution_count": 77,
   "id": "8564a901",
   "metadata": {},
   "outputs": [],
   "source": [
    "#using default arguement and required arguement\n",
    "def table(column,row=3):\n",
    "    for num in range(row):\n",
    "        for i in range(0,column):\n",
    "            print('instance,',end='')\n",
    "        print('\\n')"
   ]
  },
  {
   "cell_type": "code",
   "execution_count": 78,
   "id": "25c8be2a",
   "metadata": {},
   "outputs": [
    {
     "name": "stdout",
     "output_type": "stream",
     "text": [
      "instance,instance,instance,instance,instance,instance,instance,\n",
      "\n",
      "instance,instance,instance,instance,instance,instance,instance,\n",
      "\n",
      "instance,instance,instance,instance,instance,instance,instance,\n",
      "\n",
      "welcome to python3\n",
      "instance,instance,instance,\n",
      "\n",
      "instance,instance,instance,\n",
      "\n",
      "instance,instance,instance,\n",
      "\n"
     ]
    }
   ],
   "source": [
    "table(7)\n",
    "print('welcome to python3')\n",
    "table(3)"
   ]
  },
  {
   "cell_type": "code",
   "execution_count": 4,
   "id": "c6cb96b2",
   "metadata": {},
   "outputs": [
    {
     "name": "stdout",
     "output_type": "stream",
     "text": [
      "values inside the function:  [20, 30, 40, [1, 2, 3, 4]]\n",
      "values outside the function:  [20, 30, 40, [1, 2, 3, 4]]\n"
     ]
    }
   ],
   "source": [
    "#function by reference\n",
    "def changeme(x):\n",
    "    x.append([1,2,3,4]);\n",
    "    print('values inside the function: ',x)\n",
    "\n",
    "samlist=[20,30,40];\n",
    "changeme(samlist)\n",
    "print('values outside the function: ',samlist)\n",
    "    "
   ]
  },
  {
   "cell_type": "code",
   "execution_count": null,
   "id": "87796b3b",
   "metadata": {},
   "outputs": [],
   "source": []
  }
 ],
 "metadata": {
  "kernelspec": {
   "display_name": "Python 3",
   "language": "python",
   "name": "python3"
  },
  "language_info": {
   "codemirror_mode": {
    "name": "ipython",
    "version": 3
   },
   "file_extension": ".py",
   "mimetype": "text/x-python",
   "name": "python",
   "nbconvert_exporter": "python",
   "pygments_lexer": "ipython3",
   "version": "3.8.8"
  }
 },
 "nbformat": 4,
 "nbformat_minor": 5
}
