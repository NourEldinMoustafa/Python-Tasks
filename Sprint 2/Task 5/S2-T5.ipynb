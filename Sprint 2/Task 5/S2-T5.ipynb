{
 "cells": [
  {
   "cell_type": "markdown",
   "id": "5381875a",
   "metadata": {},
   "source": [
    "https://www.hackerrank.com/domains/python?badge_type=python&filters%5Bsubdomains%5D%5B%5D=py-math\n",
    "\n",
    "\n",
    "1-Find Angle MBC:"
   ]
  },
  {
   "cell_type": "code",
   "execution_count": 1,
   "id": "24699fb9",
   "metadata": {},
   "outputs": [
    {
     "name": "stdout",
     "output_type": "stream",
     "text": [
      "5\n",
      "7\n",
      "36°\n"
     ]
    }
   ],
   "source": [
    "import math\n",
    "\n",
    "AB = int(input())\n",
    "BC = int(input())\n",
    "\n",
    "H = math.sqrt(AB**2 + BC**2)\n",
    "H = H/2.0\n",
    "adj = BC/2.0\n",
    "\n",
    "Output = int(round(math.degrees(math.acos(adj/H))))\n",
    "\n",
    "Output = str(Output)\n",
    "\n",
    "print(Output+\"°\")"
   ]
  },
  {
   "cell_type": "markdown",
   "id": "868bf458",
   "metadata": {},
   "source": [
    "2-Triangle Quest 2\n"
   ]
  },
  {
   "cell_type": "code",
   "execution_count": 5,
   "id": "e015898c",
   "metadata": {},
   "outputs": [
    {
     "name": "stdout",
     "output_type": "stream",
     "text": [
      "5\n",
      "1\n",
      "121\n",
      "12321\n",
      "1234321\n",
      "123454321\n"
     ]
    }
   ],
   "source": [
    "for i in range(1,int(input())+1): \n",
    "    print (((10**i - 1)//9)**2)\n"
   ]
  },
  {
   "cell_type": "markdown",
   "id": "ade488ad",
   "metadata": {},
   "source": [
    "3-Mod Divmod:"
   ]
  },
  {
   "cell_type": "code",
   "execution_count": 6,
   "id": "ebd73130",
   "metadata": {},
   "outputs": [
    {
     "name": "stdout",
     "output_type": "stream",
     "text": [
      "177\n",
      "10\n",
      "17\n",
      "7\n",
      "(17, 7)\n"
     ]
    }
   ],
   "source": [
    "a = int(input());\n",
    "b = int(input());\n",
    "print(a//b);\n",
    "print(a%b);\n",
    "print(divmod(a,b));"
   ]
  },
  {
   "cell_type": "markdown",
   "id": "39565dd5",
   "metadata": {},
   "source": [
    "4-Power - Mod Power:"
   ]
  },
  {
   "cell_type": "code",
   "execution_count": 7,
   "id": "611d555d",
   "metadata": {},
   "outputs": [
    {
     "name": "stdout",
     "output_type": "stream",
     "text": [
      "2\n",
      "2\n",
      "2\n",
      "4\n",
      "0\n"
     ]
    }
   ],
   "source": [
    "a = int(input())\n",
    "b = int(input())\n",
    "m = int(input())\n",
    "\n",
    "print(pow(a,b))\n",
    "\n",
    "print(pow(a,b,m))"
   ]
  },
  {
   "cell_type": "markdown",
   "id": "8791458b",
   "metadata": {},
   "source": [
    "5-Integers Come In All Sizes:"
   ]
  },
  {
   "cell_type": "code",
   "execution_count": 10,
   "id": "cd273400",
   "metadata": {},
   "outputs": [
    {
     "name": "stdout",
     "output_type": "stream",
     "text": [
      "2\n",
      "3\n",
      "2\n",
      "3\n",
      "16\n"
     ]
    }
   ],
   "source": [
    "A = int(input())\n",
    "B = int(input())\n",
    "C = int(input())\n",
    "D = int(input())\n",
    "print((A**B)+(C**D))"
   ]
  },
  {
   "cell_type": "markdown",
   "id": "51a3f2b0",
   "metadata": {},
   "source": [
    "6-Triangle Quest:"
   ]
  },
  {
   "cell_type": "code",
   "execution_count": 12,
   "id": "47fd1824",
   "metadata": {},
   "outputs": [
    {
     "name": "stdout",
     "output_type": "stream",
     "text": [
      "5\n",
      "1\n",
      "22\n",
      "333\n",
      "4444\n"
     ]
    }
   ],
   "source": [
    "for i in range(1,int(input())): \n",
    "    print(int(i * 10**i / 9))\n"
   ]
  }
 ],
 "metadata": {
  "kernelspec": {
   "display_name": "Python 3",
   "language": "python",
   "name": "python3"
  },
  "language_info": {
   "codemirror_mode": {
    "name": "ipython",
    "version": 3
   },
   "file_extension": ".py",
   "mimetype": "text/x-python",
   "name": "python",
   "nbconvert_exporter": "python",
   "pygments_lexer": "ipython3",
   "version": "3.8.8"
  }
 },
 "nbformat": 4,
 "nbformat_minor": 5
}
