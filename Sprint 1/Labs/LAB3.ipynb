{
 "cells": [
  {
   "cell_type": "markdown",
   "id": "47808ce2",
   "metadata": {},
   "source": [
    "# define a function print the max of four inputs"
   ]
  },
  {
   "cell_type": "code",
   "execution_count": 2,
   "id": "61005332",
   "metadata": {},
   "outputs": [
    {
     "name": "stdout",
     "output_type": "stream",
     "text": [
      "please enter number1: 4\n",
      "please enter number2: 7\n",
      "please enter number3: hassan\n",
      "please enter number4: 222\n",
      "hassan\n"
     ]
    }
   ],
   "source": [
    "def max_two_num(num1,num2):\n",
    "    if num1>num2:\n",
    "        return (num1)\n",
    "    else:\n",
    "        return (num2)\n",
    "    \n",
    "def max_four_num(num1,num2,num3,num4):\n",
    "    m= max_two_num(num1,num2)\n",
    "    n= max_two_num(m,num3)\n",
    "    f= max_two_num(n,num4)\n",
    "    return (f)\n",
    "num1=input('please enter number1: ')\n",
    "num2=input('please enter number2: ')\n",
    "num3=input('please enter number3: ')\n",
    "num4=input('please enter number4: ')\n",
    "res=max_four_num(num1,num2,num3,num4)    \n",
    "print(res)"
   ]
  },
  {
   "cell_type": "markdown",
   "id": "d23c592e",
   "metadata": {},
   "source": [
    "# define a function print the unique numbers from a frequency array"
   ]
  },
  {
   "cell_type": "code",
   "execution_count": 12,
   "id": "43a2d394",
   "metadata": {},
   "outputs": [
    {
     "name": "stdout",
     "output_type": "stream",
     "text": [
      "[1, 2, 3, 4, 6, 5, 7, 8, 9]\n"
     ]
    }
   ],
   "source": [
    "def uniquelist(nonunique):\n",
    "    res=[]\n",
    "    for n in nonunique:\n",
    "        if n not in res:\n",
    "            res.append(n)\n",
    "    return (res)\n",
    "        \n",
    "numbers=[1,2,3,3,4,6,6,4,5,6,7,8,9]        \n",
    "newlist=uniquelist(numbers)\n",
    "print(newlist)"
   ]
  },
  {
   "cell_type": "markdown",
   "id": "6280be80",
   "metadata": {},
   "source": [
    "# reverse of strings"
   ]
  },
  {
   "cell_type": "code",
   "execution_count": 6,
   "id": "9148bf03",
   "metadata": {},
   "outputs": [
    {
     "name": "stdout",
     "output_type": "stream",
     "text": [
      "dcba4321\n"
     ]
    }
   ],
   "source": [
    "    def string_reverse(str1):  \n",
    "      \n",
    "        rstr1 = ''  \n",
    "        index = len(str1)  \n",
    "        while index > 0:  \n",
    "            rstr1 += str1[ index - 1 ]  \n",
    "            index = index - 1  \n",
    "        return rstr1 \n",
    "num=string_reverse('1234abcd')\n",
    "    print(num)"
   ]
  },
  {
   "cell_type": "code",
   "execution_count": null,
   "id": "75130525",
   "metadata": {},
   "outputs": [],
   "source": []
  }
 ],
 "metadata": {
  "kernelspec": {
   "display_name": "Python 3",
   "language": "python",
   "name": "python3"
  },
  "language_info": {
   "codemirror_mode": {
    "name": "ipython",
    "version": 3
   },
   "file_extension": ".py",
   "mimetype": "text/x-python",
   "name": "python",
   "nbconvert_exporter": "python",
   "pygments_lexer": "ipython3",
   "version": "3.8.8"
  }
 },
 "nbformat": 4,
 "nbformat_minor": 5
}
