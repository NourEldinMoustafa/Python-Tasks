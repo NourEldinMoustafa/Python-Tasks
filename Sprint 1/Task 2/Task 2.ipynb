{
 "cells": [
  {
   "cell_type": "markdown",
   "metadata": {},
   "source": [
    "# Question 1:\n",
    "Define a function which can print a dictionary where the keys are numbers between 1 and 3 (both included) and the values are square of keys.\n",
    "\n",
    "Hints:\n",
    "\n",
    "Use dict[key]=value pattern to put entry into a dictionary.\n",
    "Use ** operator to get power of a number."
   ]
  },
  {
   "cell_type": "code",
   "execution_count": 11,
   "metadata": {},
   "outputs": [
    {
     "name": "stdout",
     "output_type": "stream",
     "text": [
      "{1: 1, 2: 4, 3: 9, 4: 16, 5: 25, 6: 36, 7: 49, 8: 64, 9: 81, 10: 100, 11: 121, 12: 144, 13: 169, 14: 196, 15: 225, 16: 256, 17: 289, 18: 324, 19: 361, 20: 400}\n"
     ]
    }
   ],
   "source": [
    "def printDict():\n",
    "    dict={i:i**2 for i in range(1,21)}   # Using comprehension method and\n",
    "    print(dict)\n",
    "\n",
    "printDict()\n"
   ]
  },
  {
   "cell_type": "markdown",
   "metadata": {},
   "source": [
    "# Question 2:\n",
    "Define a function which can generate a dictionary where the keys are numbers between 1 and 20 (both included) and the values are square of keys. The function should just print the values only.\n",
    "\n",
    "Hints:\n",
    "\n",
    "Use dict[key]=value pattern to put entry into a dictionary.\n",
    "Use ** operator to get power of a number.\n",
    "Use range() for loops.\n",
    "Use keys() to iterate keys in the dictionary. Also we can use item() to get key/value pairs.\n"
   ]
  },
  {
   "cell_type": "code",
   "execution_count": 15,
   "metadata": {},
   "outputs": [
    {
     "data": {
      "text/plain": [
       "dict_values([1, 4, 9, 16, 25, 36, 49, 64, 81, 100, 121, 144, 169, 196, 225, 256, 289, 324, 361, 400])"
      ]
     },
     "execution_count": 15,
     "metadata": {},
     "output_type": "execute_result"
    }
   ],
   "source": [
    "def printDict():\n",
    "    dict = {i: i**2 for i in range(1, 21)}\n",
    "    return dict.values()     # print keys of a dictionary\n",
    "\n",
    "printDict()"
   ]
  },
  {
   "cell_type": "markdown",
   "metadata": {},
   "source": [
    "# Question 3:\n",
    "Define a function which can generate a dictionary where the keys are numbers between 1 and 20 (both included) and the values are square of keys. The function should just print the keys only.\n",
    "\n",
    "Hints:\n",
    "\n",
    "Use dict[key]=value pattern to put entry into a dictionary.\n",
    "Use ** operator to get power of a number.\n",
    "Use range() for loops.\n",
    "Use keys() to iterate keys in the dictionary. Also we can use item() to get key/value pairs.\n"
   ]
  },
  {
   "cell_type": "code",
   "execution_count": 16,
   "metadata": {},
   "outputs": [
    {
     "name": "stdout",
     "output_type": "stream",
     "text": [
      "dict_keys([1, 2, 3, 4, 5, 6, 7, 8, 9, 10, 11, 12, 13, 14, 15, 16, 17, 18, 19, 20])\n"
     ]
    }
   ],
   "source": [
    "def printDict():\n",
    "    dict = {i: i**2 for i in range(1, 21)}\n",
    "    print(dict.keys())      # print keys of a dictionary\n",
    "\n",
    "printDict()"
   ]
  },
  {
   "cell_type": "markdown",
   "metadata": {},
   "source": [
    "# Question 4 \n",
    "Write a Python program to check a dictionary is empty or not"
   ]
  },
  {
   "cell_type": "code",
   "execution_count": 22,
   "metadata": {},
   "outputs": [
    {
     "name": "stdout",
     "output_type": "stream",
     "text": [
      "Dictionary is empty\n"
     ]
    }
   ],
   "source": [
    "my_dict = {}\n",
    "\n",
    "if not bool(my_dict):\n",
    "    print(\"Dictionary is empty\")"
   ]
  },
  {
   "cell_type": "markdown",
   "metadata": {},
   "source": [
    "# Question 5\n",
    "\n",
    "Write a Python program to test whether every element in s is in t and every element in t is in s.\n",
    "\n"
   ]
  },
  {
   "cell_type": "code",
   "execution_count": 11,
   "metadata": {},
   "outputs": [
    {
     "name": "stdout",
     "output_type": "stream",
     "text": [
      "Equal\n"
     ]
    }
   ],
   "source": [
    "def ckeckList(lst):\n",
    "  \n",
    "    ele = lst[0]\n",
    "    chk = True\n",
    "      \n",
    "    # Comparing each element with first item \n",
    "    for item in lst:\n",
    "        if ele != item:\n",
    "            chk = False\n",
    "            break;\n",
    "              \n",
    "    if (chk == True): print(\"Equal\")\n",
    "    else: print(\"Not equal\")            \n",
    "  \n",
    "# Driver Code\n",
    "lst = ['Geeks', 'Geeks', 'Geeks', 'Geeks', ]\n",
    "ckeckList(lst)"
   ]
  },
  {
   "cell_type": "markdown",
   "metadata": {},
   "source": [
    "# Question 6\n",
    "Create set 1 and set 2 then \n",
    "Write a Python program to 1- create an intersection of sets.\n",
    "2-  a union of sets.\n",
    "3- create set difference.\n",
    "4- a symmetric difference."
   ]
  },
  {
   "cell_type": "code",
   "execution_count": 31,
   "metadata": {},
   "outputs": [
    {
     "name": "stdout",
     "output_type": "stream",
     "text": [
      "Original set elements:\n",
      "{'gold', 'silver'}\n",
      "{'metal', 'silver'}\n",
      "\n",
      "Intersection of two sets:\n",
      "{'silver'}\n",
      "{'gold', 'metal', 'silver'}\n",
      "\n",
      "Difference of set1 - set2:\n",
      "{'gold'}\n",
      "\n",
      "Difference of set2 - set1:\n",
      "{'metal'}\n",
      "\n",
      "Symmetric difference of set1 - set2:\n",
      "{'gold', 'metal'}\n",
      "\n",
      "Symmetric difference of set2 - set1:\n",
      "{'gold', 'metal'}\n"
     ]
    }
   ],
   "source": [
    "set_1 = set([\"gold\", \"silver\"])\n",
    "set_2 = set([\"silver\", \"metal\"])\n",
    "print(\"Original set elements:\")\n",
    "print(set_1)\n",
    "print(set_2)\n",
    "print(\"\\nIntersection of two sets:\")\n",
    "\n",
    "#create an intersection of sets.\n",
    "setz = set_1 & set_2\n",
    "print(setz)\n",
    "\n",
    "#union of sets.\n",
    "setn = set_1.union(set_2)\n",
    "print(setn)\n",
    "\n",
    "#create set difference\n",
    "r1 = set_1.difference(set_2)\n",
    "print(\"\\nDifference of set1 - set2:\")\n",
    "print(r1)\n",
    "r2 = set_2.difference(set_1)\n",
    "print(\"\\nDifference of set2 - set1:\")\n",
    "print(r2)\n",
    "\n",
    "#symmetric difference.\n",
    "r1 = set_1.symmetric_difference(set_2)\n",
    "print(\"\\nSymmetric difference of set1 - set2:\")\n",
    "print(r1)\n",
    "r2 = set_2.symmetric_difference(set_1)\n",
    "print(\"\\nSymmetric difference of set2 - set1:\")\n",
    "print(r2)"
   ]
  },
  {
   "cell_type": "markdown",
   "metadata": {},
   "source": [
    "# Question  7\n",
    "Write a Python program to use of frozensets."
   ]
  },
  {
   "cell_type": "code",
   "execution_count": 32,
   "metadata": {},
   "outputs": [
    {
     "name": "stdout",
     "output_type": "stream",
     "text": [
      "False\n",
      "frozenset({1, 2})\n",
      "frozenset({1, 2, 3, 4, 5, 6, 7})\n"
     ]
    }
   ],
   "source": [
    "x = frozenset([1, 2, 3, 4, 5])\n",
    "y = frozenset([3, 4, 5, 6, 7])\n",
    "#use isdisjoint(). Return True if the set has no elements in common with other. \n",
    "print(x.isdisjoint(y))\n",
    "#use difference(). Return a new set with elements in the set that are not in the others.\n",
    "print(x.difference(y))\n",
    "#new set with elements from both x and y\n",
    "print(x | y)"
   ]
  },
  {
   "cell_type": "markdown",
   "metadata": {},
   "source": [
    "# Question 8\n",
    "Write a Python program to find maximum and the minimum value in a set."
   ]
  },
  {
   "cell_type": "code",
   "execution_count": 33,
   "metadata": {},
   "outputs": [
    {
     "name": "stdout",
     "output_type": "stream",
     "text": [
      "Original set elements:\n",
      "{2, 3, 5, 10, 15, 20}\n",
      "<class 'set'>\n",
      "\n",
      "Maximum value of the said set:\n",
      "20\n",
      "\n",
      "Minimum value of the said set:\n",
      "2\n"
     ]
    }
   ],
   "source": [
    "#Create a set\n",
    "setn = {5, 10, 3, 15, 2, 20}\n",
    "print(\"Original set elements:\")\n",
    "print(setn)\n",
    "print(type(setn))\n",
    "print(\"\\nMaximum value of the said set:\")\n",
    "print(max(setn))\n",
    "print(\"\\nMinimum value of the said set:\")\n",
    "print(min(setn))"
   ]
  },
  {
   "cell_type": "markdown",
   "metadata": {},
   "source": [
    "# Question9 :\n",
    "With a given tuple (1,2,3,4,5,6,7,8,9,10), write a program to print the first half values in one line and the last half values in one line. \n",
    "\n",
    "Hints:\n",
    "\n",
    "Use [n1:n2] notation to get a slice from a tuple."
   ]
  },
  {
   "cell_type": "code",
   "execution_count": 35,
   "metadata": {},
   "outputs": [
    {
     "name": "stdout",
     "output_type": "stream",
     "text": [
      "(1, 2, 3, 4, 5)\n",
      "(6, 7, 8, 9, 10)\n"
     ]
    }
   ],
   "source": [
    "tp = (1,2,3,4,5,6,7,8,9,10)\n",
    "tp1 = tp[:5]\n",
    "tp2 = tp[5:]\n",
    "print (tp1)\n",
    "print (tp2)"
   ]
  },
  {
   "cell_type": "markdown",
   "metadata": {},
   "source": [
    "# Question 10 :\n",
    "You are required to write a program to sort the (name, age, height) tuples by ascending order where name is string, age and height are numbers. The tuples are input by console. The sort criteria is:\n",
    "1: Sort based on name;\n",
    "2: Then sort based on age;\n",
    "3: Then sort by score.\n",
    "The priority is that name > age > score.\n",
    "If the following tuples are given as input to the program:\n",
    "Tom,19,80\n",
    "John,20,90\n",
    "Jony,17,91\n",
    "Jony,17,93\n",
    "Json,21,85\n",
    "Then, the output of the program should be:\n",
    "[('John', '20', '90'), ('Jony', '17', '91'), ('Jony', '17', '93'), ('Json', '21', '85'), ('Tom', '19', '80')]\n",
    "\n",
    "Hints:\n",
    "In case of input data being supplied to the question, it should be assumed to be a console input.\n",
    "We use itemgetter to enable multiple sort keys.\n",
    "\n",
    "Solutions:\n",
    "from operator import itemgetter, attrgetter\n"
   ]
  },
  {
   "cell_type": "code",
   "execution_count": null,
   "metadata": {},
   "outputs": [
    {
     "name": "stdout",
     "output_type": "stream",
     "text": [
      "('John', '20', '90'), ('Jony', '17', '91'), ('Jony', '17', '93'), ('Json', '21', '85'), ('Tom', '19', '80')\n"
     ]
    }
   ],
   "source": [
    "lst = []\n",
    "while True:\n",
    "    s = input().split(\",\")\n",
    "    if not s[0]:  # breaks for blank input\n",
    "        break\n",
    "    lst.append(tuple(s))\n",
    "\n",
    "lst.sort(\n",
    "    key=lambda x: (x[0], x[1], x[2])\n",
    ")  # here key is defined by lambda and the data is sorted by element priority 0>1>2 in accending order\n",
    "print(lst)"
   ]
  },
  {
   "cell_type": "markdown",
   "metadata": {},
   "source": [
    "# Question 11:\n",
    "\n",
    "Please write a program to generate a list with 5 random numbers between 100 and 200 inclusive.\n",
    "\n",
    "\n",
    "\n",
    "Hints:\n",
    "Use random.sample() to generate a list of random values."
   ]
  },
  {
   "cell_type": "code",
   "execution_count": 1,
   "metadata": {},
   "outputs": [
    {
     "name": "stdout",
     "output_type": "stream",
     "text": [
      "[150, 146, 197, 189, 181]\n"
     ]
    }
   ],
   "source": [
    "import random\n",
    "resp = random.sample(range(100,201),5)\n",
    "print(resp)"
   ]
  },
  {
   "cell_type": "markdown",
   "metadata": {},
   "source": [
    "# Question 12\n",
    "Please write a program to randomly generate a list with 5 even numbers between 100 and 200 inclusive.\n",
    "\n",
    "Hints:\n",
    "Use random.sample() to generate a list of random values."
   ]
  },
  {
   "cell_type": "code",
   "execution_count": 2,
   "metadata": {},
   "outputs": [
    {
     "name": "stdout",
     "output_type": "stream",
     "text": [
      "[184, 116, 124, 154, 190]\n"
     ]
    }
   ],
   "source": [
    "import random\n",
    "resp = random.sample(range(100,201,2),5)\n",
    "print(resp)"
   ]
  },
  {
   "cell_type": "markdown",
   "metadata": {},
   "source": [
    "# Question 13\n",
    "Please write a program to randomly print a integer number between 7 and 15 inclusive.\n",
    "\n",
    "Hints: Use random.randrange() to a random integer in a given range.\n",
    "\n"
   ]
  },
  {
   "cell_type": "code",
   "execution_count": 6,
   "metadata": {},
   "outputs": [
    {
     "name": "stdout",
     "output_type": "stream",
     "text": [
      "142\n"
     ]
    }
   ],
   "source": [
    "import random\n",
    "resp=random.randrange(100,201,2)\n",
    "print(resp)"
   ]
  },
  {
   "cell_type": "markdown",
   "metadata": {},
   "source": [
    "# Question 14\n",
    "\n",
    "Please write a program to print the running time of execution of \"1+1\" for 100 times.\n",
    "Hints:\n",
    "Use timeit() function to measure the running time.\n"
   ]
  },
  {
   "cell_type": "code",
   "execution_count": 8,
   "metadata": {},
   "outputs": [
    {
     "name": "stdout",
     "output_type": "stream",
     "text": [
      "2.1695171000000073\n"
     ]
    }
   ],
   "source": [
    "from timeit import Timer\n",
    "t = Timer(\"for i in range(100):1+1\")\n",
    "print (t.timeit())"
   ]
  },
  {
   "cell_type": "markdown",
   "metadata": {},
   "source": [
    "# Question 15 :\n",
    "\n",
    "Please write a program to shuffle and print the list [3,6,7,8].\n",
    "\n",
    "Hints:\n",
    "Use shuffle() function to shuffle a list.\n"
   ]
  },
  {
   "cell_type": "code",
   "execution_count": 10,
   "metadata": {},
   "outputs": [
    {
     "name": "stdout",
     "output_type": "stream",
     "text": [
      "[6, 8, 7, 3]\n"
     ]
    }
   ],
   "source": [
    "from random import shuffle\n",
    "li = [3,6,7,8]\n",
    "shuffle(li)\n",
    "print (li)"
   ]
  }
 ],
 "metadata": {
  "kernelspec": {
   "display_name": "Python 3",
   "language": "python",
   "name": "python3"
  },
  "language_info": {
   "codemirror_mode": {
    "name": "ipython",
    "version": 3
   },
   "file_extension": ".py",
   "mimetype": "text/x-python",
   "name": "python",
   "nbconvert_exporter": "python",
   "pygments_lexer": "ipython3",
   "version": "3.8.8"
  }
 },
 "nbformat": 4,
 "nbformat_minor": 2
}
