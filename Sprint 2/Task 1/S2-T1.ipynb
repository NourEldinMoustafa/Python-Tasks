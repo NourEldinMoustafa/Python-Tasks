{
 "cells": [
  {
   "cell_type": "markdown",
   "id": "19491c5a",
   "metadata": {},
   "source": [
    "#https://www.hackerrank.com/domains/python?badge_type=python&filters%5Bsubdomains%5D%5B%5D=py-introduction\n",
    "\n",
    "1-If-Else\n"
   ]
  },
  {
   "cell_type": "code",
   "execution_count": 2,
   "id": "ae4756f1",
   "metadata": {},
   "outputs": [
    {
     "name": "stdout",
     "output_type": "stream",
     "text": [
      "2\n",
      "Not Weird\n"
     ]
    }
   ],
   "source": [
    "n = int(input())\n",
    "if n % 2 == 1:\n",
    "    print(\"Weird\")\n",
    "elif n % 2 == 0 and 2 <= n <= 5:\n",
    "    print(\"Not Weird\")\n",
    "elif n % 2 == 0 and 6 <= n <= 20:\n",
    "    print(\"Weird\")\n",
    "else:\n",
    "    print(\"Not Weird\")\n",
    "\n"
   ]
  },
  {
   "cell_type": "markdown",
   "id": "4fbf9557",
   "metadata": {},
   "source": [
    "2-Arithmetic Operators:"
   ]
  },
  {
   "cell_type": "code",
   "execution_count": 4,
   "id": "f3f4c2b9",
   "metadata": {},
   "outputs": [
    {
     "name": "stdout",
     "output_type": "stream",
     "text": [
      "3\n",
      "4\n",
      "\n",
      " 7 \n",
      " -1 \n",
      " 12\n"
     ]
    }
   ],
   "source": [
    "a = int(input())\n",
    "b = int(input())\n",
    "c=a+b\n",
    "d=a-b\n",
    "e=a*b\n",
    "print('\\n',c,'\\n',d,'\\n',e)"
   ]
  },
  {
   "cell_type": "markdown",
   "id": "7738c3a4",
   "metadata": {},
   "source": [
    "3-Python: Division"
   ]
  },
  {
   "cell_type": "code",
   "execution_count": 8,
   "id": "98380bf8",
   "metadata": {},
   "outputs": [
    {
     "name": "stdout",
     "output_type": "stream",
     "text": [
      "3\n",
      "4\n",
      "The result of the integer division: 0 \n",
      "The result of the integer division: 0.75\n"
     ]
    }
   ],
   "source": [
    "a = int(input())\n",
    "b = int(input())\n",
    "c=a//b\n",
    "d=a/b\n",
    "print(\"The result of the integer division:\",c,\"\\nThe result of the integer division:\",d)\n"
   ]
  },
  {
   "cell_type": "markdown",
   "id": "415dd083",
   "metadata": {},
   "source": [
    "4-Loops"
   ]
  },
  {
   "cell_type": "code",
   "execution_count": 4,
   "id": "396f920a",
   "metadata": {},
   "outputs": [
    {
     "name": "stdout",
     "output_type": "stream",
     "text": [
      "5\n",
      "0\n",
      "1\n",
      "4\n",
      "9\n",
      "16\n"
     ]
    }
   ],
   "source": [
    "n = int(input())\n",
    "for i in range(n):\n",
    "    print(i*i)"
   ]
  },
  {
   "cell_type": "markdown",
   "id": "74e40593",
   "metadata": {},
   "source": [
    "5-Write a function:\n"
   ]
  },
  {
   "cell_type": "code",
   "execution_count": 7,
   "id": "e709048d",
   "metadata": {},
   "outputs": [
    {
     "name": "stdout",
     "output_type": "stream",
     "text": [
      "4\n",
      "True\n"
     ]
    }
   ],
   "source": [
    "def is_leap(year):\n",
    "    leap = False\n",
    "    if year%4==0:\n",
    "        if year%100==0:\n",
    "            if year%400==0:\n",
    "                leap=True\n",
    "            else:\n",
    "                leap=False\n",
    "        else:\n",
    "             leap=True\n",
    "    else:\n",
    "        leap=False\n",
    "    return leap\n",
    "year = int(input())\n",
    "print(is_leap(year))                     "
   ]
  },
  {
   "cell_type": "markdown",
   "id": "d466393d",
   "metadata": {},
   "source": [
    "6-Print Function\n"
   ]
  },
  {
   "cell_type": "code",
   "execution_count": 10,
   "id": "d6917872",
   "metadata": {},
   "outputs": [
    {
     "name": "stdout",
     "output_type": "stream",
     "text": [
      "5\n",
      "12345"
     ]
    }
   ],
   "source": [
    "n = int(input())\n",
    "for i in range(n):\n",
    "        print(i+1,end=\"\")"
   ]
  }
 ],
 "metadata": {
  "kernelspec": {
   "display_name": "Python 3",
   "language": "python",
   "name": "python3"
  },
  "language_info": {
   "codemirror_mode": {
    "name": "ipython",
    "version": 3
   },
   "file_extension": ".py",
   "mimetype": "text/x-python",
   "name": "python",
   "nbconvert_exporter": "python",
   "pygments_lexer": "ipython3",
   "version": "3.8.8"
  }
 },
 "nbformat": 4,
 "nbformat_minor": 5
}
