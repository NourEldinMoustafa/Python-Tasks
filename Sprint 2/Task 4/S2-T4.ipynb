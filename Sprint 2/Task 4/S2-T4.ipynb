{
 "cells": [
  {
   "cell_type": "markdown",
   "id": "11e50c57",
   "metadata": {},
   "source": [
    "https://www.hackerrank.com/domains/python?badge_type=python&filters%5Bsubdomains%5D%5B%5D=py-sets\n",
    "\n",
    "1-Introduction to Sets"
   ]
  },
  {
   "cell_type": "code",
   "execution_count": 6,
   "id": "24a2e06b",
   "metadata": {},
   "outputs": [
    {
     "name": "stdout",
     "output_type": "stream",
     "text": [
      "10\n",
      "161 182 161 154 176 170 167 171 170 174\n",
      "169.375\n"
     ]
    }
   ],
   "source": [
    "\n",
    "def average(array):\n",
    "\n",
    "    arrayAsSet = set(array)\n",
    "\n",
    "    return sum(arrayAsSet) / len(arrayAsSet)\n",
    "\n",
    "\n",
    "if __name__ == '__main__':\n",
    "\n",
    "    n = int(input())\n",
    "\n",
    "    arr = list(map(int, input().split()))\n",
    "\n",
    "    result = average(arr)\n",
    "\n",
    "    print(result)"
   ]
  },
  {
   "cell_type": "markdown",
   "id": "7a33fb4f",
   "metadata": {},
   "source": [
    "2-No Idea!"
   ]
  },
  {
   "cell_type": "code",
   "execution_count": 15,
   "id": "08ac94bd",
   "metadata": {},
   "outputs": [
    {
     "name": "stdout",
     "output_type": "stream",
     "text": [
      "3 2\n",
      "1 5 3\n",
      "3 1\n",
      "5 7\n",
      "1\n"
     ]
    }
   ],
   "source": [
    "count = list(map(int,input().strip().split()))\n",
    "m = count[0]\n",
    "n = count[1]\n",
    "Arr = list(map(int,input().strip().split()))\n",
    "array = set(map(int,input().strip().split()))\n",
    "array2 = set(map(int,input().strip().split()))\n",
    "points = 0\n",
    "for i in Arr:\n",
    "    if i in array : points = points + 1\n",
    "    elif i in array2 : points = points - 1\n",
    "print (points )"
   ]
  },
  {
   "cell_type": "markdown",
   "id": "799108e5",
   "metadata": {},
   "source": [
    "3-Set.Add:"
   ]
  },
  {
   "cell_type": "code",
   "execution_count": 16,
   "id": "154dcccd",
   "metadata": {},
   "outputs": [
    {
     "name": "stdout",
     "output_type": "stream",
     "text": [
      "7\n",
      "UK\n",
      " China\n",
      " USA\n",
      "France\n",
      "New Zealand \n",
      "UK\n",
      "France\n",
      "5\n"
     ]
    }
   ],
   "source": [
    "N = int(input())\n",
    "countries = set()\n",
    "for i in range(N):\n",
    "    countries.add(input())\n",
    "\n",
    "print(len(countries))\n"
   ]
  },
  {
   "cell_type": "markdown",
   "id": "64087c10",
   "metadata": {},
   "source": [
    "4-Set.discard(), .remove() & .pop()\n"
   ]
  },
  {
   "cell_type": "code",
   "execution_count": 20,
   "id": "e473c15e",
   "metadata": {},
   "outputs": [
    {
     "name": "stdout",
     "output_type": "stream",
     "text": [
      "0\n",
      "0\n",
      "0\n",
      "0\n"
     ]
    }
   ],
   "source": [
    "n = int(input())\n",
    "s = set(map(int, input().split()))\n",
    "\n",
    "for _ in range(int(input())):\n",
    "    command = input().split()\n",
    "\n",
    "    if command[0] == 'pop':\n",
    "        s.pop()\n",
    "    elif command[0] == 'remove':\n",
    "        s.remove(int(command[1]))\n",
    "    elif command[0] == 'discard':\n",
    "        s.discard(int(command[1]))\n",
    "\n",
    "print(sum(s))"
   ]
  },
  {
   "cell_type": "markdown",
   "id": "464d6f61",
   "metadata": {},
   "source": [
    "5-Set .union() Operation"
   ]
  },
  {
   "cell_type": "code",
   "execution_count": 23,
   "id": "30226371",
   "metadata": {},
   "outputs": [
    {
     "name": "stdout",
     "output_type": "stream",
     "text": [
      "9\n",
      "10 1 2 3 11 21 55 6 8\n",
      "9\n",
      "1 2 3 4 5 6 7 8 9\n",
      "13\n"
     ]
    }
   ],
   "source": [
    "n = int(input())\n",
    "ns = set(map(int, input().split()))\n",
    "b = int(input())\n",
    "bs = set(map(int, input().split()))\n",
    "\n",
    "print(len(ns | bs))"
   ]
  },
  {
   "cell_type": "markdown",
   "id": "881a0788",
   "metadata": {},
   "source": [
    "6-Set .intersection() Operation"
   ]
  },
  {
   "cell_type": "code",
   "execution_count": 24,
   "id": "fd4ce121",
   "metadata": {},
   "outputs": [
    {
     "name": "stdout",
     "output_type": "stream",
     "text": [
      "9\n",
      "1 2 3 4 5 6 7 8 9\n",
      "9\n",
      "10 1 2 3 11 21 55 6 8\n",
      "5\n"
     ]
    }
   ],
   "source": [
    "n = int(input())\n",
    "ns = set(map(int, input().split()))\n",
    "b = int(input())\n",
    "bs = set(map(int, input().split()))\n",
    "\n",
    "print(len(ns & bs))"
   ]
  },
  {
   "cell_type": "markdown",
   "id": "8c8cbb67",
   "metadata": {},
   "source": [
    "7-Set .difference() Operation"
   ]
  },
  {
   "cell_type": "code",
   "execution_count": 25,
   "id": "14e362fd",
   "metadata": {},
   "outputs": [
    {
     "name": "stdout",
     "output_type": "stream",
     "text": [
      "9\n",
      "1 2 3 4 5 6 7 8 9\n",
      "9\n",
      "10 1 2 3 11 21 55 6 8\n",
      "4\n"
     ]
    }
   ],
   "source": [
    "n = int(input())\n",
    "ns = set(map(int, input().split()))\n",
    "b = int(input())\n",
    "bs = set(map(int, input().split()))\n",
    "\n",
    "print(len(ns - bs))"
   ]
  },
  {
   "cell_type": "markdown",
   "id": "2159ffbc",
   "metadata": {},
   "source": [
    "8-Set .symmetric_difference() Operation"
   ]
  },
  {
   "cell_type": "code",
   "execution_count": 26,
   "id": "440788fc",
   "metadata": {},
   "outputs": [
    {
     "name": "stdout",
     "output_type": "stream",
     "text": [
      "9\n",
      "1 2 3 4 5 6 7 8 9\n",
      "9\n",
      "10 1 2 3 11 21 55 6 8\n",
      "8\n"
     ]
    }
   ],
   "source": [
    "n = int(input())\n",
    "ns = set(map(int, input().split()))\n",
    "b = int(input())\n",
    "bs = set(map(int, input().split()))\n",
    "\n",
    "print(len(ns ^ bs))"
   ]
  },
  {
   "cell_type": "markdown",
   "id": "b336c07a",
   "metadata": {},
   "source": [
    "9-Set Mutations:"
   ]
  },
  {
   "cell_type": "code",
   "execution_count": 28,
   "id": "7f8fc557",
   "metadata": {},
   "outputs": [
    {
     "name": "stdout",
     "output_type": "stream",
     "text": [
      "16\n",
      "1 2 3 4 5 6 7 8 9 10 11 12 13 14 24 52\n",
      "4\n",
      "intersection_update 10\n",
      "2 3 5 6 8 9 1 4 7 11\n",
      "update 2\n",
      "55 66\n",
      "symmetric_difference_update 5\n",
      "22 7 35 62 58\n",
      "difference_update 7\n",
      "11 22 35 55 58 62 66\n",
      "38\n"
     ]
    }
   ],
   "source": [
    "na = int(input())\n",
    "a = set(map(int, input().split()))\n",
    "\n",
    "n = int(input())\n",
    "\n",
    "for _ in range(n):\n",
    "\n",
    "    cmd, nb = input().split()\n",
    "    b = set(map(int, input().split()))\n",
    "\n",
    "    if cmd == 'update':\n",
    "        a.update(b)\n",
    "    elif cmd == 'intersection_update':\n",
    "        a.intersection_update(b)\n",
    "    elif cmd == 'difference_update':\n",
    "        a.difference_update(b)\n",
    "    elif cmd == 'symmetric_difference_update':\n",
    "        a.symmetric_difference_update(b)\n",
    "\n",
    "print(sum(a))"
   ]
  },
  {
   "cell_type": "markdown",
   "id": "e8ad1ca6",
   "metadata": {},
   "source": [
    "10-The Captain's Room"
   ]
  },
  {
   "cell_type": "code",
   "execution_count": 30,
   "id": "d40697d3",
   "metadata": {},
   "outputs": [
    {
     "name": "stdout",
     "output_type": "stream",
     "text": [
      "5\n",
      "4291 240 4231 99 2727 1566 110 3166 4046 752 4236 414 926 1521 3322 1112 497 888 1280 3631 524 3999 461 4552 1742 2790 3220 1608 547 2897 1006 3551 2881 1753 1785 796 2793 4103 1668 520 1454 767 1406 1699 2155 3401 2920 3169 298 1969 774 2566 546 3417 2035 1376 3007 870 3767 241 767 674 1259 3838 77 991 2639 2699 1500 4478 2706 3664 3576 1079 842 1359 1034 372 3824 1662 1177 2072 4269 3203 2252 192 1923 2471 266 4161 2899 2629 1029 2077 1253 275 1552 1835 3863 2628 108 85 1420 4183 2457 2611 4503 3388 1727 3840 2668 3596 373 807 316 203 117 3455 2739 578 3827 1639 71 4377 629 956 487 2651 1127 1254 1700 1365 3964 3234 2546 562 1003 308 1531 4466 4141 1189 752 1807 1837 1878 2944 3422 1399 1605 3347 2649 198 1730 4276 3834 4577 3533 3567 3951 1968 2345 2809 1503 2299 3067 2298 2053 4321 1255 684 4444 3658 4411 3232 422 247 4169 535 4368 13 2183 2635 621 4046 2174 2430 2938 4444 181 4131 1403 1479 2149 1931 46 4237 347 3759 228 2820 332 3083 3387 356 3421 4343 2198 923 1294 2483 2799 959 677 2994 4585 2870 13\n",
      "4291\n",
      "240\n",
      "4231\n",
      "99\n",
      "2727\n",
      "1566\n",
      "110\n",
      "3166\n",
      "4236\n",
      "414\n",
      "926\n",
      "1521\n",
      "3322\n",
      "1112\n",
      "497\n",
      "888\n",
      "1280\n",
      "3631\n",
      "524\n",
      "3999\n",
      "461\n",
      "4552\n",
      "1742\n",
      "2790\n",
      "3220\n",
      "1608\n",
      "547\n",
      "2897\n",
      "1006\n",
      "3551\n",
      "2881\n",
      "1753\n",
      "1785\n",
      "796\n",
      "2793\n",
      "4103\n",
      "1668\n",
      "520\n",
      "1454\n",
      "1406\n",
      "1699\n",
      "2155\n",
      "3401\n",
      "2920\n",
      "3169\n",
      "298\n",
      "1969\n",
      "774\n",
      "2566\n",
      "546\n",
      "3417\n",
      "2035\n",
      "1376\n",
      "3007\n",
      "870\n",
      "3767\n",
      "241\n",
      "674\n",
      "1259\n",
      "3838\n",
      "77\n",
      "991\n",
      "2639\n",
      "2699\n",
      "1500\n",
      "4478\n",
      "2706\n",
      "3664\n",
      "3576\n",
      "1079\n",
      "842\n",
      "1359\n",
      "1034\n",
      "372\n",
      "3824\n",
      "1662\n",
      "1177\n",
      "2072\n",
      "4269\n",
      "3203\n",
      "2252\n",
      "192\n",
      "1923\n",
      "2471\n",
      "266\n",
      "4161\n",
      "2899\n",
      "2629\n",
      "1029\n",
      "2077\n",
      "1253\n",
      "275\n",
      "1552\n",
      "1835\n",
      "3863\n",
      "2628\n",
      "108\n",
      "85\n",
      "1420\n",
      "4183\n",
      "2457\n",
      "2611\n",
      "4503\n",
      "3388\n",
      "1727\n",
      "3840\n",
      "2668\n",
      "3596\n",
      "373\n",
      "807\n",
      "316\n",
      "203\n",
      "117\n",
      "3455\n",
      "2739\n",
      "578\n",
      "3827\n",
      "1639\n",
      "71\n",
      "4377\n",
      "629\n",
      "956\n",
      "487\n",
      "2651\n",
      "1127\n",
      "1254\n",
      "1700\n",
      "1365\n",
      "3964\n",
      "3234\n",
      "2546\n",
      "562\n",
      "1003\n",
      "308\n",
      "1531\n",
      "4466\n",
      "4141\n",
      "1189\n",
      "1807\n",
      "1837\n",
      "1878\n",
      "2944\n",
      "3422\n",
      "1399\n",
      "1605\n",
      "3347\n",
      "2649\n",
      "198\n",
      "1730\n",
      "4276\n",
      "3834\n",
      "4577\n",
      "3533\n",
      "3567\n",
      "3951\n",
      "1968\n",
      "2345\n",
      "2809\n",
      "1503\n",
      "2299\n",
      "3067\n",
      "2298\n",
      "2053\n",
      "4321\n",
      "1255\n",
      "684\n",
      "3658\n",
      "4411\n",
      "3232\n",
      "422\n",
      "247\n",
      "4169\n",
      "535\n",
      "4368\n",
      "2183\n",
      "2635\n",
      "621\n",
      "2174\n",
      "2430\n",
      "2938\n",
      "181\n",
      "4131\n",
      "1403\n",
      "1479\n",
      "2149\n",
      "1931\n",
      "46\n",
      "4237\n",
      "347\n",
      "3759\n",
      "228\n",
      "2820\n",
      "332\n",
      "3083\n",
      "3387\n",
      "356\n",
      "3421\n",
      "4343\n",
      "2198\n",
      "923\n",
      "1294\n",
      "2483\n",
      "2799\n",
      "959\n",
      "677\n",
      "2994\n",
      "4585\n",
      "2870\n"
     ]
    }
   ],
   "source": [
    "from collections import Counter\n",
    "\n",
    "k = int(input())\n",
    "rooms = Counter(map(int, input().split()))\n",
    "\n",
    "for x in rooms.items():\n",
    "    if x[1] == 1:\n",
    "        print(x[0])"
   ]
  },
  {
   "cell_type": "markdown",
   "id": "d217f5d3",
   "metadata": {},
   "source": [
    "11-Check Subset:"
   ]
  },
  {
   "cell_type": "code",
   "execution_count": null,
   "id": "eb70be67",
   "metadata": {},
   "outputs": [],
   "source": [
    "for _ in range(int(input())):\n",
    "        \n",
    "    na = int(input())\n",
    "    a = set(map(int, input().split()))\n",
    "    \n",
    "    nb = int(input())\n",
    "    b = set(map(int, input().split()))\n",
    "\n",
    "    print(len(a.intersection(b)) == na)"
   ]
  },
  {
   "cell_type": "markdown",
   "id": "016ea914",
   "metadata": {},
   "source": [
    "12-Check Strict Superset:\n"
   ]
  },
  {
   "cell_type": "code",
   "execution_count": 33,
   "id": "ec31c64b",
   "metadata": {},
   "outputs": [
    {
     "name": "stdout",
     "output_type": "stream",
     "text": [
      "1 2 3 4 5 6 7 8 9 10 11 12 23 45 84 78\n",
      "2\n",
      "1 2 3 4 5\n",
      "100 11 12\n",
      "False\n"
     ]
    }
   ],
   "source": [
    "a = set(map(int, input().split()))\n",
    "n = int(input())\n",
    "\n",
    "is_super_set = True\n",
    "\n",
    "for _ in range(n):\n",
    "        \n",
    "    b = set(map(int, input().split()))\n",
    "\n",
    "    if len(b.intersection(a)) != len(b):\n",
    "        is_super_set = False\n",
    "\n",
    "print(is_super_set)"
   ]
  }
 ],
 "metadata": {
  "kernelspec": {
   "display_name": "Python 3",
   "language": "python",
   "name": "python3"
  },
  "language_info": {
   "codemirror_mode": {
    "name": "ipython",
    "version": 3
   },
   "file_extension": ".py",
   "mimetype": "text/x-python",
   "name": "python",
   "nbconvert_exporter": "python",
   "pygments_lexer": "ipython3",
   "version": "3.8.8"
  }
 },
 "nbformat": 4,
 "nbformat_minor": 5
}
