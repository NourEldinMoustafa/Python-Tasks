{
 "cells": [
  {
   "cell_type": "markdown",
   "id": "f5376c1b",
   "metadata": {},
   "source": [
    "1-itertools.permutations()"
   ]
  },
  {
   "cell_type": "code",
   "execution_count": 1,
   "id": "8c0cc5cd",
   "metadata": {},
   "outputs": [
    {
     "name": "stdout",
     "output_type": "stream",
     "text": [
      "HACK 2\n",
      "AC\n",
      "AH\n",
      "AK\n",
      "CA\n",
      "CH\n",
      "CK\n",
      "HA\n",
      "HC\n",
      "HK\n",
      "KA\n",
      "KC\n",
      "KH\n"
     ]
    }
   ],
   "source": [
    "from itertools import permutations\n",
    "\n",
    "s,k = input().split()\n",
    "\n",
    "words = list(permutations(s,int(k)))\n",
    "words = sorted(words, reverse=False)\n",
    "for word in words:\n",
    "    print(*word,sep='')"
   ]
  },
  {
   "cell_type": "markdown",
   "id": "54b31a20",
   "metadata": {},
   "source": [
    "2-itertools.combinations()"
   ]
  },
  {
   "cell_type": "code",
   "execution_count": 5,
   "id": "7cadff5e",
   "metadata": {},
   "outputs": [
    {
     "name": "stdout",
     "output_type": "stream",
     "text": [
      "HACK 2\n",
      "A\n",
      "C\n",
      "H\n",
      "K\n",
      "AC\n",
      "AH\n",
      "AK\n",
      "CH\n",
      "CK\n",
      "HK\n"
     ]
    }
   ],
   "source": [
    "from itertools import combinations\n",
    "\n",
    "io = input().split()\n",
    "S = io[0]\n",
    "k = int(io[1])\n",
    "for i in range(1,k+1):\n",
    "    for j in combinations(sorted(S),i):\n",
    "        print(\"\".join(j))"
   ]
  },
  {
   "cell_type": "markdown",
   "id": "0bb669af",
   "metadata": {},
   "source": [
    "3-itertools.combinations_with_replacement()\n"
   ]
  },
  {
   "cell_type": "code",
   "execution_count": 6,
   "id": "88098d27",
   "metadata": {},
   "outputs": [
    {
     "name": "stdout",
     "output_type": "stream",
     "text": [
      "task 3\n",
      "aaa\n",
      "aak\n",
      "aas\n",
      "aat\n",
      "akk\n",
      "aks\n",
      "akt\n",
      "ass\n",
      "ast\n",
      "att\n",
      "kkk\n",
      "kks\n",
      "kkt\n",
      "kss\n",
      "kst\n",
      "ktt\n",
      "sss\n",
      "sst\n",
      "stt\n",
      "ttt\n"
     ]
    }
   ],
   "source": [
    "from itertools import combinations_with_replacement\n",
    "\n",
    "io = input().split();\n",
    "char = sorted(io[0]);\n",
    "N = int(io[1]);\n",
    "\n",
    "for i in combinations_with_replacement(char,N):\n",
    "    print(''.join(i));"
   ]
  },
  {
   "cell_type": "markdown",
   "id": "825d5aa5",
   "metadata": {},
   "source": [
    "4-Compress the String!"
   ]
  },
  {
   "cell_type": "code",
   "execution_count": 8,
   "id": "27fa0540",
   "metadata": {},
   "outputs": [
    {
     "name": "stdout",
     "output_type": "stream",
     "text": [
      "1222311\n",
      "(1, 1) (3, 2) (1, 3) (2, 1) "
     ]
    }
   ],
   "source": [
    "from itertools import *\n",
    "\n",
    "io = input()\n",
    "for i,j in groupby(map(int,list(io))):\n",
    "    print(tuple([len(list(j)), i]) ,end = \" \")"
   ]
  },
  {
   "cell_type": "markdown",
   "id": "807e4730",
   "metadata": {},
   "source": [
    "5-Iterables and Iterators"
   ]
  },
  {
   "cell_type": "code",
   "execution_count": 10,
   "id": "5602fd0f",
   "metadata": {},
   "outputs": [
    {
     "name": "stdout",
     "output_type": "stream",
     "text": [
      "4\n",
      "a a c d\n",
      "2\n",
      "0.8333333333333334\n"
     ]
    }
   ],
   "source": [
    "from itertools import combinations\n",
    "\n",
    "N = int(input())\n",
    "char = input().split()\n",
    "K = int(input())\n",
    "\n",
    "count = 0;\n",
    "total = 0;\n",
    "\n",
    "for i in combinations(char,K):\n",
    "    count += 'a' in i\n",
    "    total += 1\n",
    "    \n",
    "print(count/total)"
   ]
  },
  {
   "cell_type": "markdown",
   "id": "b03c4f15",
   "metadata": {},
   "source": [
    "6-Maximize It!"
   ]
  },
  {
   "cell_type": "code",
   "execution_count": 16,
   "id": "937b8962",
   "metadata": {},
   "outputs": [
    {
     "name": "stdout",
     "output_type": "stream",
     "text": [
      "7 642996\n"
     ]
    },
    {
     "ename": "NameError",
     "evalue": "name 'xrange' is not defined",
     "output_type": "error",
     "traceback": [
      "\u001b[1;31m---------------------------------------------------------------------------\u001b[0m",
      "\u001b[1;31mNameError\u001b[0m                                 Traceback (most recent call last)",
      "\u001b[1;32m<ipython-input-16-84a79c4c5375>\u001b[0m in \u001b[0;36m<module>\u001b[1;34m\u001b[0m\n\u001b[0;32m      4\u001b[0m \u001b[0mN\u001b[0m \u001b[1;33m=\u001b[0m \u001b[1;33m[\u001b[0m\u001b[1;33m]\u001b[0m\u001b[1;33m\u001b[0m\u001b[1;33m\u001b[0m\u001b[0m\n\u001b[0;32m      5\u001b[0m \u001b[1;33m\u001b[0m\u001b[0m\n\u001b[1;32m----> 6\u001b[1;33m \u001b[1;32mfor\u001b[0m \u001b[0m_\u001b[0m \u001b[1;32min\u001b[0m \u001b[0mxrange\u001b[0m\u001b[1;33m(\u001b[0m\u001b[0mK\u001b[0m\u001b[1;33m)\u001b[0m\u001b[1;33m:\u001b[0m\u001b[1;33m\u001b[0m\u001b[1;33m\u001b[0m\u001b[0m\n\u001b[0m\u001b[0;32m      7\u001b[0m      \u001b[0mN\u001b[0m\u001b[1;33m.\u001b[0m\u001b[0mappend\u001b[0m\u001b[1;33m(\u001b[0m\u001b[0mmap\u001b[0m\u001b[1;33m(\u001b[0m\u001b[0mint\u001b[0m\u001b[1;33m,\u001b[0m \u001b[0mraw_input\u001b[0m\u001b[1;33m(\u001b[0m\u001b[1;33m)\u001b[0m\u001b[1;33m.\u001b[0m\u001b[0msplit\u001b[0m\u001b[1;33m(\u001b[0m\u001b[1;33m)\u001b[0m\u001b[1;33m)\u001b[0m\u001b[1;33m[\u001b[0m\u001b[1;36m1\u001b[0m\u001b[1;33m:\u001b[0m\u001b[1;33m]\u001b[0m\u001b[1;33m)\u001b[0m\u001b[1;33m\u001b[0m\u001b[1;33m\u001b[0m\u001b[0m\n\u001b[0;32m      8\u001b[0m \u001b[0mMAX\u001b[0m \u001b[1;33m=\u001b[0m \u001b[1;33m-\u001b[0m\u001b[1;36m1\u001b[0m\u001b[1;33m\u001b[0m\u001b[1;33m\u001b[0m\u001b[0m\n",
      "\u001b[1;31mNameError\u001b[0m: name 'xrange' is not defined"
     ]
    }
   ],
   "source": [
    "from itertools import *\n",
    "\n",
    "K, M = map(int, input().split())\n",
    "N = []\n",
    "\n",
    "for _ in xrange(K):\n",
    "     N.append(map(int, raw_input().split())[1:])        \n",
    "MAX = -1\n",
    "for i in product(*N):\n",
    "    MAX = max(sum(map(lambda x: x**2, i))%M, MAX)\n",
    "    \n",
    "print (MAX)"
   ]
  },
  {
   "cell_type": "code",
   "execution_count": null,
   "id": "c1a64a26",
   "metadata": {},
   "outputs": [],
   "source": [
    "from itertools import product\n",
    "K,M = map(int,input().split())\n",
    "nums = []\n",
    "for _ in range(K):\n",
    "    row = map(int,input().split()[1:])\n",
    "    nums.append(map(lambda x:x**2%M, row))\n",
    "print(max(map(lambda x: sum(x)%M, product(*nums))))"
   ]
  },
  {
   "cell_type": "code",
   "execution_count": null,
   "id": "86312b15",
   "metadata": {},
   "outputs": [],
   "source": []
  }
 ],
 "metadata": {
  "kernelspec": {
   "display_name": "Python 3",
   "language": "python",
   "name": "python3"
  },
  "language_info": {
   "codemirror_mode": {
    "name": "ipython",
    "version": 3
   },
   "file_extension": ".py",
   "mimetype": "text/x-python",
   "name": "python",
   "nbconvert_exporter": "python",
   "pygments_lexer": "ipython3",
   "version": "3.8.8"
  }
 },
 "nbformat": 4,
 "nbformat_minor": 5
}
