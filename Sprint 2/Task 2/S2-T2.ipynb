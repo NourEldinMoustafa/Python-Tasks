{
 "cells": [
  {
   "cell_type": "markdown",
   "id": "8e9f49af",
   "metadata": {},
   "source": [
    "https://www.hackerrank.com/domains/python?badge_type=python&filters%5Bsubdomains%5D%5B%5D=py-basic-data-types\n",
    "1-List Comprehensions"
   ]
  },
  {
   "cell_type": "code",
   "execution_count": 5,
   "id": "8f5e6f48",
   "metadata": {},
   "outputs": [
    {
     "name": "stdout",
     "output_type": "stream",
     "text": [
      "1\n",
      "1\n",
      "1\n",
      "2\n",
      "[[0, 0, 0], [0, 0, 1], [0, 1, 0], [1, 0, 0], [1, 1, 1]]\n"
     ]
    }
   ],
   "source": [
    "    x = int(input())\n",
    "    y = int(input())\n",
    "    z = int(input())\n",
    "    n = int(input())\n",
    "    output=[]\n",
    "    for i in range(x+1):\n",
    "        for j in range(y+1):\n",
    "            for k in range(z+1):\n",
    "                if i+j+k==n:\n",
    "                    continue\n",
    "                else:\n",
    "                    output.append([i,j,k])\n",
    "    \n",
    "    print(output)"
   ]
  },
  {
   "cell_type": "markdown",
   "id": "14e1443c",
   "metadata": {},
   "source": [
    "2-Find the Runner-Up Score!\n",
    "\n"
   ]
  },
  {
   "cell_type": "code",
   "execution_count": 3,
   "id": "2366d6ba",
   "metadata": {},
   "outputs": [
    {
     "name": "stdout",
     "output_type": "stream",
     "text": [
      "5\n",
      "2\n"
     ]
    }
   ],
   "source": [
    "    n = int(input())\n",
    "    arr = map(int, input().split())\n",
    "    arr=sorted(arr,reverse=True)\n",
    "    for i in range(len(arr)):\n",
    "        if arr[i]==arr[0]:\n",
    "            continue\n",
    "        else:\n",
    "            print(arr[i])  \n",
    "            break"
   ]
  },
  {
   "cell_type": "markdown",
   "id": "b242a7bf",
   "metadata": {},
   "source": [
    "3-Nested Lists"
   ]
  },
  {
   "cell_type": "code",
   "execution_count": null,
   "id": "eecc2d2a",
   "metadata": {
    "scrolled": true
   },
   "outputs": [
    {
     "name": "stdout",
     "output_type": "stream",
     "text": [
      "1\n",
      "\n",
      "0\n"
     ]
    }
   ],
   "source": [
    "    lis=[]\n",
    "    for _ in range(int(input())):\n",
    "        name = input()\n",
    "        score = float(input())\n",
    "        lis.append([name,score])\n",
    "    lis.sort(key=lambda lis:lis[1])\n",
    "    second_lowest=[]\n",
    "    for i in range(len(lis)):\n",
    "        if lis[i][1]!=lis[0][1]:\n",
    "            second_lowest.append(lis[i][0])\n",
    "            for j in range(i+1,len(lis)):\n",
    "                if lis[j][1]==lis[i][1]:\n",
    "                    second_lowest.append(lis[j][0])\n",
    "                else:\n",
    "                    break\n",
    "            break        \n",
    "        else:\n",
    "            continue\n",
    "    second_lowest.sort()\n",
    "    for i in second_lowest:\n",
    "        print(i)\n",
    "                  "
   ]
  },
  {
   "cell_type": "markdown",
   "id": "6d94251a",
   "metadata": {},
   "source": [
    "4-Finding the percentage\n"
   ]
  },
  {
   "cell_type": "code",
   "execution_count": null,
   "id": "39dff138",
   "metadata": {},
   "outputs": [],
   "source": [
    "if __name__ == '__main__':\n",
    "    n = int(input())\n",
    "    student_marks = {}\n",
    "    for _ in range(n):\n",
    "        name, *line = input().split()\n",
    "        scores = list(map(float, line))\n",
    "        student_marks[name] = scores\n",
    "    query_name = input()\n",
    "    query_score=student_marks[query_name]\n",
    "    a=(sum(query_score)/len(query_score))\n",
    "    print(\"{0:.2f}\".format(a))"
   ]
  },
  {
   "cell_type": "markdown",
   "id": "c292a64b",
   "metadata": {},
   "source": [
    "5-Lists"
   ]
  },
  {
   "cell_type": "code",
   "execution_count": null,
   "id": "4cfe3638",
   "metadata": {},
   "outputs": [
    {
     "name": "stdout",
     "output_type": "stream",
     "text": [
      "122\n"
     ]
    }
   ],
   "source": [
    "    N = int(input())\n",
    "    m=list()\n",
    "    for i in range(N):\n",
    "       method,*l=input().split()\n",
    "       k=list(map(int,l))\n",
    "       if len(k)==2:\n",
    "          q=[k[0]]\n",
    "          w=[k[1]]\n",
    "       elif len(k)==1:\n",
    "          q=[k[0]]\n",
    "       if method =='insert':\n",
    "          m.insert(q[0],w[0])\n",
    "       elif method == 'append':\n",
    "          m.append(q[0])\n",
    "       elif  method == 'remove':\n",
    "          m.remove(q[0])\n",
    "       elif method =='print':\n",
    "          print(m)\n",
    "       elif method == 'reverse':\n",
    "          m.reverse()\n",
    "       elif method =='pop':\n",
    "          m.pop()\n",
    "       elif method == 'sort':\n",
    "          m.sort()"
   ]
  },
  {
   "cell_type": "markdown",
   "id": "1eed9e87",
   "metadata": {},
   "source": [
    "6-tuples"
   ]
  },
  {
   "cell_type": "code",
   "execution_count": 10,
   "id": "29c94390",
   "metadata": {},
   "outputs": [
    {
     "name": "stdout",
     "output_type": "stream",
     "text": [
      "12\n",
      "5\n",
      "-7813438383599366905\n"
     ]
    }
   ],
   "source": [
    "n = int(input())\n",
    "integer_list = map(int,input().split())\n",
    "integer_list=tuple((integer_list))\n",
    "print(hash(integer_list))"
   ]
  }
 ],
 "metadata": {
  "kernelspec": {
   "display_name": "Python 3",
   "language": "python",
   "name": "python3"
  },
  "language_info": {
   "codemirror_mode": {
    "name": "ipython",
    "version": 3
   },
   "file_extension": ".py",
   "mimetype": "text/x-python",
   "name": "python",
   "nbconvert_exporter": "python",
   "pygments_lexer": "ipython3",
   "version": "3.8.8"
  }
 },
 "nbformat": 4,
 "nbformat_minor": 5
}
